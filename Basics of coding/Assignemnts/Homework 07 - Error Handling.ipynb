{
 "cells": [
  {
   "cell_type": "markdown",
   "metadata": {},
   "source": [
    "# Homework 08 - Error Handling\n",
    "\n",
    "All of this error handling should be happening inside your functions, not outside of them."
   ]
  },
  {
   "cell_type": "markdown",
   "metadata": {},
   "source": [
    "### For the following functions created in the previous homework, check to see if a TypeError is raised:\n",
    "\n",
    "* my_factorial\n",
    "* odd_or_even\n",
    "\n",
    "If a type error is raised, print out, \"One or more of your provided values is of the wrong type\" and return False"
   ]
  },
  {
   "cell_type": "code",
   "execution_count": null,
   "metadata": {},
   "outputs": [],
   "source": []
  },
  {
   "cell_type": "markdown",
   "metadata": {},
   "source": [
    "### For the following functions created in the previous homework, raise a TypeError if one or more of the inputs is a string:\n",
    "\n",
    "* divisors\n",
    "* fibonacci"
   ]
  },
  {
   "cell_type": "code",
   "execution_count": null,
   "metadata": {},
   "outputs": [],
   "source": []
  },
  {
   "cell_type": "markdown",
   "metadata": {},
   "source": [
    "### For the following functions created in the previous homework, create a new exception called ErrorString and raise it if the provided string is 'this is an error string':\n",
    "\n",
    "* palindrome\n",
    "\n",
    "Use == to compare the strings"
   ]
  },
  {
   "cell_type": "code",
   "execution_count": null,
   "metadata": {},
   "outputs": [],
   "source": []
  },
  {
   "cell_type": "markdown",
   "metadata": {},
   "source": [
    "### For the following functions catch all errors during the addition, and if no error are found print 'no errors found'.  If an error of any kind is found, just print 'we found an error'.  Using the finally keyword print 'all done with operation' after checking.\n",
    "\n",
    "* my_add"
   ]
  },
  {
   "cell_type": "code",
   "execution_count": null,
   "metadata": {},
   "outputs": [],
   "source": []
  }
 ],
 "metadata": {
  "anaconda-cloud": {},
  "kernelspec": {
   "display_name": "Python 3",
   "language": "python",
   "name": "python3"
  },
  "language_info": {
   "codemirror_mode": {
    "name": "ipython",
    "version": 3
   },
   "file_extension": ".py",
   "mimetype": "text/x-python",
   "name": "python",
   "nbconvert_exporter": "python",
   "pygments_lexer": "ipython3",
   "version": "3.6.5"
  }
 },
 "nbformat": 4,
 "nbformat_minor": 2
}
