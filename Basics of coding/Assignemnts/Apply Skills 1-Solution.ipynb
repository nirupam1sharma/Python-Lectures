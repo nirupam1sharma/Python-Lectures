{
 "cells": [
  {
   "cell_type": "markdown",
   "metadata": {},
   "source": [
    "# Apply your skills\n",
    "In this notebook we apply the skills we learned in the first two notebooks. A business problem is presented to us which we solve in python. We try to make use we use as much modularity as possible and try to stay away from hard coding things as the code we design has to be reusable to test multiple scenarios"
   ]
  },
  {
   "cell_type": "markdown",
   "metadata": {},
   "source": [
    "## Business Statement\n",
    "Imagine that you work for a consumer ratings website. Users submit reviews and scores for products they use, and you show the results so that consumers can make informed choices.\n",
    "\n",
    "Throughout this section we will write a function that asks user to input five scores and aggregates them to output a single rating.\n",
    "\n",
    "Because the highest and lowest scores might be outliers and skew the results, we will take the three middle scores out of the five, discarding the highest and lowest.\n",
    "\n",
    "Then we will take the average (mean) of those three middle scores.\n",
    "\n",
    "For example, if the scores are 1,2,2,4,4 then we take the average of 2, 2 and 4 to get 2.6666666666.\n",
    "\n",
    "Then we will map that average score to a written rating like this:\n",
    "\n",
    "Average Score\t                Rating\n",
    "\n",
    "0 <= score < 1\t    ---->            Terrible\n",
    "\n",
    "1 <= score < 2\t    ---->            Bad\n",
    "\n",
    "2 <= score < 3\t    ---->            OK\n",
    "\n",
    "3 <= score < 4\t    ---->            Good\n",
    "\n",
    "4 <= score <= 5\t    ---->            Excellent\n",
    "\n",
    "Oh, and the input data might be messy - sometimes a string, not necessarily a float or an int. So we should check and convert it if necessary in order to do the calculations."
   ]
  },
  {
   "cell_type": "code",
   "execution_count": 1,
   "metadata": {},
   "outputs": [],
   "source": [
    "# we define a function which will ask users to to enter 5 scores on a range of 0 to 5\n",
    "def askscore():\n",
    "    \"\"\"This function will ask the user to enter five scores and will return them after\n",
    "    converting them to float values\"\"\"\n",
    "    score1= float(input(\"Enter the First score: \"))\n",
    "    score2= float(input(\"Enter the Second score: \"))\n",
    "    score3= float(input(\"Enter the Third score: \"))\n",
    "    score4= float(input(\"Enter the Fourth score: \"))\n",
    "    score5= float(input(\"Enter the Fifth score: \"))\n",
    "    return(score1,score2,score3,score4,score5)"
   ]
  },
  {
   "cell_type": "code",
   "execution_count": 2,
   "metadata": {},
   "outputs": [],
   "source": [
    "# We define a function that checks that the score entered is in the range 0 to 5\n",
    "def correctscore(score):\n",
    "    \"\"\"The input to the function is a float score value. The function will correct the score \n",
    "    and bring it between 0 and 5.\"\"\"\n",
    "    if(score < 0):\n",
    "        score = 0\n",
    "    elif(score > 5):\n",
    "        score = 5\n",
    "    return(score)"
   ]
  },
  {
   "cell_type": "code",
   "execution_count": 3,
   "metadata": {},
   "outputs": [],
   "source": [
    "# we create a function that will find the average of the middle three scores\n",
    "def avgmidthree(score1,score2,score3,score4,score5):\n",
    "    \"\"\"This function retuen the averag eof middle three observations when sorted\"\"\"\n",
    "    minvalu = min(score1,score2,score3,score4,score5)\n",
    "    maxvalu = max(score1,score2,score3,score4,score5)\n",
    "    return((score1+score2+score3+score4+score5-minvalu-maxvalu)/3)"
   ]
  },
  {
   "cell_type": "code",
   "execution_count": 4,
   "metadata": {},
   "outputs": [],
   "source": [
    "# now function to find the qualitative rating from numeric rating is defined\n",
    "def getratingfinal(score):\n",
    "    \"This function will return the qualitative rating based on the score passed to it\"\n",
    "    if(score >= 0 and score < 1):\n",
    "        return(\"Terrible\")\n",
    "    elif(score >= 1 and score < 2):\n",
    "        return(\"Bad\")\n",
    "    elif(score >= 2 and score < 3):\n",
    "        return(\"OK\")\n",
    "    elif(score >= 3 and score < 4):\n",
    "        retunr(\"Good\")\n",
    "    elif(score >= 4 and score <= 5):\n",
    "        return(\"Excellent\")"
   ]
  },
  {
   "cell_type": "code",
   "execution_count": 5,
   "metadata": {},
   "outputs": [],
   "source": [
    "# Now we create the main function which will call other functions and is itself called to initiate the rating process\n",
    "def main():\n",
    "    myscore1,myscore2,myscore3,myscore4,myscore5=askscore()\n",
    "    myscore1 = correctscore(myscore1)\n",
    "    myscore2 = correctscore(myscore2)\n",
    "    myscore3 = correctscore(myscore3)\n",
    "    myscore4 = correctscore(myscore4)\n",
    "    myscore5 = correctscore(myscore4)\n",
    "    midvalue = avgmidthree(myscore1,myscore2,myscore3,myscore4,myscore5)\n",
    "    print(\"After analyzing your scores, the final quality rating given is\",getratingfinal(midvalue))"
   ]
  },
  {
   "cell_type": "code",
   "execution_count": 6,
   "metadata": {},
   "outputs": [
    {
     "name": "stdout",
     "output_type": "stream",
     "text": [
      "Enter the First score: -14\n",
      "Enter the Second score: 4\n",
      "Enter the Third score: 5\n",
      "Enter the Fourth score: 19\n",
      "Enter the Fifth score: 100\n",
      "After analyzing your scores, the final quality rating given is Excellent\n"
     ]
    }
   ],
   "source": [
    "main()"
   ]
  }
 ],
 "metadata": {
  "kernelspec": {
   "display_name": "Python 3",
   "language": "python",
   "name": "python3"
  },
  "language_info": {
   "codemirror_mode": {
    "name": "ipython",
    "version": 3
   },
   "file_extension": ".py",
   "mimetype": "text/x-python",
   "name": "python",
   "nbconvert_exporter": "python",
   "pygments_lexer": "ipython3",
   "version": "3.6.5"
  }
 },
 "nbformat": 4,
 "nbformat_minor": 2
}
