{
 "cells": [
  {
   "cell_type": "markdown",
   "metadata": {},
   "source": [
    "# Apply your skills\n",
    "In this notebook we apply the skills we learned in the first two notebooks. A business problem is presented to us which we solve in python. We try to make use we use as much modularity as possible and try to stay away from hard coding things as the code we design has to be reusable to test multiple scenarios"
   ]
  },
  {
   "cell_type": "markdown",
   "metadata": {},
   "source": [
    "## Business Statement\n",
    "Imagine that you work for a consumer ratings website. Users submit reviews and scores for products they use, and you show the results so that consumers can make informed choices.\n",
    "\n",
    "Throughout this section we will write a function that asks user to input five scores and aggregates them to output a single rating.\n",
    "\n",
    "Because the highest and lowest scores might be outliers and skew the results, we will take the three middle scores out of the five, discarding the highest and lowest.\n",
    "\n",
    "Then we will take the average (mean) of those three middle scores.\n",
    "\n",
    "For example, if the scores are 1,2,2,4,4 then we take the average of 2, 2 and 4 to get 2.6666666666.\n",
    "\n",
    "Then we will map that average score to a written rating like this:\n",
    "\n",
    "Average Score\t                Rating\n",
    "\n",
    "0 <= score < 1\t    ---->            Terrible\n",
    "\n",
    "1 <= score < 2\t    ---->            Bad\n",
    "\n",
    "2 <= score < 3\t    ---->            OK\n",
    "\n",
    "3 <= score < 4\t    ---->            Good\n",
    "\n",
    "4 <= score <= 5\t    ---->            Excellent\n",
    "\n",
    "Oh, and the input data might be messy - sometimes a string, not necessarily a float or an int. So we should check and convert it if necessary in order to do the calculations."
   ]
  }
 ],
 "metadata": {
  "kernelspec": {
   "display_name": "Python 3",
   "language": "python",
   "name": "python3"
  },
  "language_info": {
   "codemirror_mode": {
    "name": "ipython",
    "version": 3
   },
   "file_extension": ".py",
   "mimetype": "text/x-python",
   "name": "python",
   "nbconvert_exporter": "python",
   "pygments_lexer": "ipython3",
   "version": "3.6.5"
  }
 },
 "nbformat": 4,
 "nbformat_minor": 2
}
