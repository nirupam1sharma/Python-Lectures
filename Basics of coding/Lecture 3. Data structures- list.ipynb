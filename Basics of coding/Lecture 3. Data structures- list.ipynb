{
 "cells": [
  {
   "cell_type": "markdown",
   "metadata": {},
   "source": [
    "# Lecture 3: Data Structures in Python: list\n",
    "In this lecture, we would look at the particular data structure present in python called ___***lists.***___\n",
    "\n",
    "## lists\n",
    "A list in python is a mutable collection of elements. A list is defined using square brackets [   ], and the elements of the list are separated by commas. Now, we create a list that contain few random elements."
   ]
  },
  {
   "cell_type": "code",
   "execution_count": 1,
   "metadata": {},
   "outputs": [
    {
     "name": "stdout",
     "output_type": "stream",
     "text": [
      "list1 is [2, 4, 'animal', 'Mars', 3.33]\n",
      "<class 'list'>\n"
     ]
    }
   ],
   "source": [
    "list1 =[2,4,\"animal\",\"Mars\",3.33]\n",
    "print(\"list1 is {}\".format(list1))\n",
    "print(type(list1))"
   ]
  },
  {
   "cell_type": "markdown",
   "metadata": {},
   "source": [
    "### Look up individual elements\n",
    "We can have a look at the elements at individual position using indexing inside square bracket for example list1[2] will return the object at third position because indexing in python starts with 0."
   ]
  },
  {
   "cell_type": "code",
   "execution_count": 2,
   "metadata": {},
   "outputs": [
    {
     "name": "stdout",
     "output_type": "stream",
     "text": [
      "element at position 0 is 2\n",
      "element at position 1 is 4\n",
      "element at position 2 is animal\n",
      "element at position 3 is Mars\n",
      "element at position 4 is 3.33\n"
     ]
    }
   ],
   "source": [
    "# use len() function to get the length of the object\n",
    "length = len(list1)\n",
    "i = 0\n",
    "while(i < length):\n",
    "    print(\"element at position {} is {}\".format(i,list1[i]))\n",
    "    i += 1"
   ]
  },
  {
   "cell_type": "markdown",
   "metadata": {},
   "source": [
    "We can start from backwards too using negative indexing as described in below example."
   ]
  },
  {
   "cell_type": "code",
   "execution_count": 3,
   "metadata": {},
   "outputs": [
    {
     "name": "stdout",
     "output_type": "stream",
     "text": [
      "element at position 4 is 3.33\n",
      "element at position 3 is Mars\n",
      "element at position 2 is animal\n",
      "element at position 1 is 4\n",
      "element at position 0 is 2\n"
     ]
    }
   ],
   "source": [
    "i = length - 1\n",
    "while(i>=0):\n",
    "    print(\"element at position {} is {}\".format(i,list1[i]))\n",
    "    i = i-1"
   ]
  },
  {
   "cell_type": "markdown",
   "metadata": {},
   "source": [
    "### List Slicing\n",
    "We can take out a specific part or subset of list using the following syntax\n",
    "\n",
    "___***sublist = listorigin[start:end]***___ will print all the elements in the list starting from the index ___***start -> end-1***___."
   ]
  },
  {
   "cell_type": "code",
   "execution_count": 4,
   "metadata": {},
   "outputs": [
    {
     "name": "stdout",
     "output_type": "stream",
     "text": [
      "The first three elements of the list are [2, 4, 'animal']\n"
     ]
    }
   ],
   "source": [
    "print(\"The first three elements of the list are {}\".format(list1[0:3]))"
   ]
  },
  {
   "cell_type": "markdown",
   "metadata": {},
   "source": [
    "There are a couple of slicing shortcuts that simplify common situations. If you would like to make a slice that begins at the very beginning of the original list, or that ends at the very end of the original list, you can omit the start or end index like this:"
   ]
  },
  {
   "cell_type": "code",
   "execution_count": 5,
   "metadata": {},
   "outputs": [
    {
     "name": "stdout",
     "output_type": "stream",
     "text": [
      "First 5 months are ['Jan', 'Feb', 'Mar', 'Jun', 'Jul']\n",
      "Last 5 motnhs are ['Aug', 'Sep', 'Oct', 'Nov', 'Dec']\n"
     ]
    }
   ],
   "source": [
    "months = [\"Jan\",\"Feb\",\"Mar\",\"Jun\",\"Jul\",\"Aug\",\"Sep\",\"Oct\",\"Nov\",\"Dec\"]\n",
    "print(\"First 5 months are {}\".format(months[:5]))\n",
    "print(\"Last 5 motnhs are {}\".format(months[-5:]))"
   ]
  },
  {
   "cell_type": "markdown",
   "metadata": {},
   "source": [
    "### some of the common list functions\n",
    "The following functions are very useful while working with lists.\n",
    "1. ***list.append(x)***\n",
    "\n",
    "Add an item to the end of the list. Equivalent to a[len(a):] = [x].\n",
    "2. ***The del statement***\n",
    "\n",
    "this is a way to remove an item from a list given its index instead of its value: the del statement. This differs from the pop() method which returns a value. The del statement can also be used to remove slices from a list or clear the entire list (which we did earlier by assignment of an empty list to the slice)\n",
    "3. ***list.insert(i, x)***\n",
    "\n",
    "Insert an item at a given position. The first argument is the index of the element before which to insert, so a.insert(0, x) inserts at the front of the list, and a.insert(len(a), x) is equivalent to a.append(x).\n",
    "4. ***list.remove(x)***\n",
    "\n",
    "Remove the first item from the list whose value is equal to x. It raises a ValueError if there is no such item.\n",
    "5. ***list.pop([i])***\n",
    "\n",
    "Remove the item at the given position in the list, and return it. If no index is specified, a.pop() removes and returns the last item in the list. (The square brackets around the i in the method signature denote that the parameter is optional, not that you should type square brackets at that position. You will see this notation frequently in the Python Library Reference.)\n",
    "6. ***list.clear()***\n",
    "\n",
    "Remove all items from the list. Equivalent to del a[:].\n",
    "7. ***list.index(x[, start[, end]])***\n",
    "\n",
    "Return zero-based index in the list of the first item whose value is equal to x. Raises a ValueError if there is no such item.\n",
    "The optional arguments start and end are interpreted as in the slice notation and are used to limit the search to a particular subsequence of the list. The returned index is computed relative to the beginning of the full sequence rather than the start argument.\n",
    "8. ***list.count(x)***\n",
    "\n",
    "Return the number of times x appears in the list.\n",
    "9. ***list.sort(key=None, reverse=False)***\n",
    "\n",
    "Sort the items of the list in place (the arguments can be used for sort customization, see sorted() for their explanation).\n",
    "10. ***list.reverse()***\n",
    "\n",
    "Reverse the elements of the list in place.\n",
    "11. ***list.copy()***\n",
    "\n",
    "Return a shallow copy of the list. Equivalent to a[:]."
   ]
  },
  {
   "cell_type": "code",
   "execution_count": 6,
   "metadata": {},
   "outputs": [
    {
     "name": "stdout",
     "output_type": "stream",
     "text": [
      "list contents after appending new value is [2, 4, 'animal', 'Mars', 3.33, 'new appended value']\n"
     ]
    }
   ],
   "source": [
    "# we will look at how list.append() works\n",
    "list1.append(\"new appended value\")\n",
    "print(\"list contents after appending new value is {}\".format(list1))"
   ]
  },
  {
   "cell_type": "code",
   "execution_count": 7,
   "metadata": {},
   "outputs": [
    {
     "name": "stdout",
     "output_type": "stream",
     "text": [
      "Delete the first five elements from the list\n",
      "new list is\n"
     ]
    },
    {
     "data": {
      "text/plain": [
       "[6, 7, 8, 9, 10, 11, 12, 13, 14, 15, 16]"
      ]
     },
     "execution_count": 7,
     "metadata": {},
     "output_type": "execute_result"
    }
   ],
   "source": [
    "# we will look at how del statement works\n",
    "lst =[1,2,3,4,5,6,7,8,9,10,11,12,13,14,15,16]\n",
    "print(\"Delete the first five elements from the list\")\n",
    "del lst[:5]\n",
    "print(\"new list is\")\n",
    "lst"
   ]
  },
  {
   "cell_type": "code",
   "execution_count": 8,
   "metadata": {},
   "outputs": [
    {
     "name": "stdout",
     "output_type": "stream",
     "text": [
      "old value is [2, 4, 'animal', 'Mars', 3.33, 'new appended value']\n",
      "new value is [2, 4, 'ocean', 'animal', 'Mars', 3.33, 'new appended value']\n"
     ]
    }
   ],
   "source": [
    "# we look at list.insert() function\n",
    "print(\"old value is {}\".format(list1))\n",
    "list1.insert(2,\"ocean\")\n",
    "print(\"new value is {}\".format(list1))"
   ]
  },
  {
   "cell_type": "code",
   "execution_count": 9,
   "metadata": {},
   "outputs": [
    {
     "name": "stdout",
     "output_type": "stream",
     "text": [
      "old value is [2, 4, 'ocean', 'animal', 'Mars', 3.33, 'new appended value']\n",
      "new value is [4, 'ocean', 'animal', 'Mars', 3.33, 'new appended value']\n"
     ]
    }
   ],
   "source": [
    "# Remove item based on position\n",
    "# we look at list.insert() function\n",
    "print(\"old value is {}\".format(list1))\n",
    "list1.pop(0)\n",
    "print(\"new value is {}\".format(list1))"
   ]
  },
  {
   "cell_type": "code",
   "execution_count": 10,
   "metadata": {},
   "outputs": [
    {
     "name": "stdout",
     "output_type": "stream",
     "text": [
      "old value is [4, 'ocean', 'animal', 'Mars', 3.33, 'new appended value']\n",
      "new value is [4, 'ocean', 'animal', 'Mars', 3.33]\n"
     ]
    }
   ],
   "source": [
    "# get rid of item based on value\n",
    "print(\"old value is {}\".format(list1))\n",
    "list1.remove(\"new appended value\")\n",
    "print(\"new value is {}\".format(list1))"
   ]
  },
  {
   "cell_type": "code",
   "execution_count": 11,
   "metadata": {},
   "outputs": [
    {
     "name": "stdout",
     "output_type": "stream",
     "text": [
      "old value is [6, 7, 8, 9, 10, 11, 12, 13, 14, 15, 16]\n",
      "new value is []\n"
     ]
    }
   ],
   "source": [
    "# lets see how to clear the entire list\n",
    "print(\"old value is {}\".format(lst))\n",
    "lst.clear()\n",
    "print(\"new value is {}\".format(lst))"
   ]
  },
  {
   "cell_type": "code",
   "execution_count": 12,
   "metadata": {},
   "outputs": [
    {
     "name": "stdout",
     "output_type": "stream",
     "text": [
      "animal value is at index 2\n"
     ]
    }
   ],
   "source": [
    "# lets have look at list.index()\n",
    "print(\"animal value is at index {}\".format(list1.index(\"animal\")))"
   ]
  },
  {
   "cell_type": "code",
   "execution_count": 13,
   "metadata": {},
   "outputs": [
    {
     "name": "stdout",
     "output_type": "stream",
     "text": [
      "Ocean is present 1 times in list\n"
     ]
    }
   ],
   "source": [
    "# count the number of times ocean come in list\n",
    "print(\"Ocean is present {} times in list\".format(list1.count(\"ocean\")))"
   ]
  },
  {
   "cell_type": "code",
   "execution_count": 14,
   "metadata": {},
   "outputs": [
    {
     "name": "stdout",
     "output_type": "stream",
     "text": [
      "sorted list is [2, 3, 3, 4, 5, 7, 8, 9, 10]\n"
     ]
    }
   ],
   "source": [
    "# sort a list\n",
    "lst=[5,4,7,3,8,3,9,10,2]\n",
    "lst.sort()\n",
    "print(\"sorted list is {}\".format(lst))"
   ]
  },
  {
   "cell_type": "code",
   "execution_count": 15,
   "metadata": {},
   "outputs": [
    {
     "name": "stdout",
     "output_type": "stream",
     "text": [
      "[10, 9, 8, 7, 5, 4, 3, 3, 2]\n",
      "new list is [10, 4, 8, 7, 5, 4, 3, 3, 2]\n",
      "old list is [10, 4, 8, 7, 5, 4, 3, 3, 2]\n",
      "old list is [10, 4, 77, 7, 5, 4, 3, 3, 2]\n",
      "new lst is [10, 4, 8, 7, 5, 4, 3, 3, 2]\n"
     ]
    }
   ],
   "source": [
    "# reverse a list and copy it\n",
    "lst.reverse()\n",
    "print(lst)\n",
    "newls = lst\n",
    "newls[1]=4\n",
    "print(\"new list is\",newls)\n",
    "print(\"old list is\",lst)\n",
    "# doing shallow copy\n",
    "newls2 = lst.copy()\n",
    "newls[2]=77\n",
    "print(\"old list is\",lst)\n",
    "print(\"new lst is\",newls2)"
   ]
  },
  {
   "cell_type": "markdown",
   "metadata": {},
   "source": [
    "### Some of the functions to apply on a list\n",
    "1. ***max***: returns the maximum value of the list\n",
    "2. ***min***: returns the minimum value of a list\n",
    "3. ***len***: returns the length of the list\n",
    "4. ***join***: used to join elements of list into single string object provided all the elements of the list are strings"
   ]
  },
  {
   "cell_type": "code",
   "execution_count": 16,
   "metadata": {},
   "outputs": [
    {
     "name": "stdout",
     "output_type": "stream",
     "text": [
      "maximum of list [10, 4, 77, 7, 5, 4, 3, 3, 2] is 77\n",
      "minimum of list [10, 4, 77, 7, 5, 4, 3, 3, 2] is 2\n",
      "length of list [10, 4, 77, 7, 5, 4, 3, 3, 2] is 9\n",
      "a*b*c*d*e*f*g\n"
     ]
    }
   ],
   "source": [
    "print(\"maximum of list {} is {}\".format(lst,max(lst)))\n",
    "print(\"minimum of list {} is {}\".format(lst,min(lst)))\n",
    "print(\"length of list {} is {}\".format(lst,len(lst)))\n",
    "newlst = \"*\".join([\"a\",\"b\",\"c\",\"d\",\"e\",\"f\",\"g\"])\n",
    "print(newlst)"
   ]
  }
 ],
 "metadata": {
  "kernelspec": {
   "display_name": "Python 3",
   "language": "python",
   "name": "python3"
  },
  "language_info": {
   "codemirror_mode": {
    "name": "ipython",
    "version": 3
   },
   "file_extension": ".py",
   "mimetype": "text/x-python",
   "name": "python",
   "nbconvert_exporter": "python",
   "pygments_lexer": "ipython3",
   "version": "3.6.5"
  }
 },
 "nbformat": 4,
 "nbformat_minor": 2
}
