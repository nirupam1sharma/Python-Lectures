{
 "cells": [
  {
   "cell_type": "markdown",
   "metadata": {},
   "source": [
    "# Lecture 2: Conditionals, loops and functions\n",
    "In the second lecture we would cover conditional statements such as ***if, elif and else*** followed by standard looping constructs such as ***while***. The lecture will end with explanation of the ***functions*** in python and how to build them using standard norms."
   ]
  },
  {
   "cell_type": "markdown",
   "metadata": {},
   "source": [
    "## If Statements\n",
    "***If*** statement is used when we want to execute commands only when certain conditions are met. For testing different conditions which result in different commands being executed, we can make use of ***elif*** which is short for else if and we may end with ***else***. To combine two conditions in same conditional statement we can use logical boolean operators such as ***and, or, not.***\n",
    "\n",
    "This is where our whitespace starts to become very important.  Make sure you use only a tab to change between levels for the if statements.\n",
    "\n",
    "Basic format for an if statement in Python:\n",
    "\n",
    "***if***(test1 ***or*** test):         # if test will go to following line only either of test or test1 is true\n",
    "\n",
    "    statement1    # associated block to execute\n",
    "    \n",
    "***elif***(test2 ***and*** ***not*** test4):       # optional else if test which will go to following line if test2 is true and test4 isn't \n",
    "\n",
    "    statement2    #\n",
    "\n",
    "***else***:             # optional else\n",
    "\n",
    "    statement3    #"
   ]
  },
  {
   "cell_type": "code",
   "execution_count": 1,
   "metadata": {},
   "outputs": [
    {
     "name": "stdout",
     "output_type": "stream",
     "text": [
      "the if statement will always execute as the condition provided to if is True\n"
     ]
    }
   ],
   "source": [
    "if(True):\n",
    "    print('the if statement will always execute as the condition provided to if is True')"
   ]
  },
  {
   "cell_type": "code",
   "execution_count": 2,
   "metadata": {},
   "outputs": [
    {
     "name": "stdout",
     "output_type": "stream",
     "text": [
      "Else statement will always execute as False provided with if\n"
     ]
    }
   ],
   "source": [
    "if(False):\n",
    "    print('in the if statement')\n",
    "else:\n",
    "    print('Else statement will always execute as False provided with if')"
   ]
  },
  {
   "cell_type": "code",
   "execution_count": 3,
   "metadata": {},
   "outputs": [
    {
     "name": "stdout",
     "output_type": "stream",
     "text": [
      " executes\n"
     ]
    }
   ],
   "source": [
    "if(False):\n",
    "    print('not execute')\n",
    "elif True:\n",
    "    print(' executes')\n",
    "else:\n",
    "    print('in the else statement')"
   ]
  },
  {
   "cell_type": "code",
   "execution_count": 4,
   "metadata": {},
   "outputs": [
    {
     "name": "stdout",
     "output_type": "stream",
     "text": [
      "a < b\n"
     ]
    }
   ],
   "source": [
    "a = 97\n",
    "b = 108\n",
    "if(a < b):\n",
    "    print('a < b')\n",
    "else:\n",
    "    print('a >= b')"
   ]
  },
  {
   "cell_type": "markdown",
   "metadata": {},
   "source": [
    "Python does not have switch or case statements, like C or Pascal.  Instead, you code a long series of multiway branches."
   ]
  },
  {
   "cell_type": "markdown",
   "metadata": {},
   "source": [
    "This if/elif/else statement is our fist example of a compound statement.\n",
    "\n",
    "Compound statements are header + ':' + indented statement\n",
    "\n",
    "Blank lines are optional and ignored.\n",
    "\n",
    "Spaces are usually ignored except when used for indentation.b"
   ]
  },
  {
   "cell_type": "code",
   "execution_count": 5,
   "metadata": {},
   "outputs": [
    {
     "name": "stdout",
     "output_type": "stream",
     "text": [
      "SPAMSPAMSPAMSPAMSPAMSPAMSPAMSPAM\n",
      "SPAMing\n"
     ]
    }
   ],
   "source": [
    "x = 'SPAM'\n",
    "if('rubbery' in 'shrubbery'): # in is used to check for presence\n",
    "    print(x*8)\n",
    "    x += 'ing'\n",
    "elif(x.endswith('NI')): # we learn a new function of string type\n",
    "        x *= 2\n",
    "        print(x)\n",
    "print(x)"
   ]
  },
  {
   "cell_type": "markdown",
   "metadata": {},
   "source": [
    "After a short time, these indentation rules should feel intuitive because they break up your code into the appropraite pieces."
   ]
  },
  {
   "cell_type": "markdown",
   "metadata": {},
   "source": [
    "If you have very long statements you can use \\ to continue it on the next line"
   ]
  },
  {
   "cell_type": "code",
   "execution_count": 6,
   "metadata": {},
   "outputs": [
    {
     "name": "stdout",
     "output_type": "stream",
     "text": [
      "all true but d\n"
     ]
    }
   ],
   "source": [
    "a=b=c=True\n",
    "d=False\n",
    "\n",
    "if(a and b and c \\\n",
    "and not d):\n",
    "    print('all true but d')\n",
    "else:\n",
    "    print('a,b, or c false or d true')"
   ]
  },
  {
   "cell_type": "markdown",
   "metadata": {},
   "source": [
    "# While Loops \n",
    "\n",
    "Executes a block of code while a condition remains true.  The condition is only checked at the beginning of each loop.\n",
    "\n",
    "General format:\n",
    "\n",
    "while(test): #loop test\n",
    "\n",
    "    statements #loop body\n",
    "    \n",
    "else: #optional else\n",
    "\n",
    "    statements #run if exited without break"
   ]
  },
  {
   "cell_type": "code",
   "execution_count": 7,
   "metadata": {},
   "outputs": [
    {
     "name": "stdout",
     "output_type": "stream",
     "text": [
      "1\n",
      "2\n",
      "3\n",
      "4\n",
      "all done\n"
     ]
    }
   ],
   "source": [
    "x = 1\n",
    "while(x < 5):\n",
    "    print(x)\n",
    "    x += 1\n",
    "else:\n",
    "    print('all done')"
   ]
  },
  {
   "cell_type": "code",
   "execution_count": 8,
   "metadata": {},
   "outputs": [
    {
     "name": "stdout",
     "output_type": "stream",
     "text": [
      "string\n",
      "tring\n",
      "ring\n",
      "ing\n",
      "ng\n",
      "g\n"
     ]
    }
   ],
   "source": [
    "x = 'string'\n",
    "while(x): #while x is not empty\n",
    "    print(x)\n",
    "    x = x[1:] #strip off first character. We'll learn about this later    "
   ]
  },
  {
   "cell_type": "markdown",
   "metadata": {},
   "source": [
    "### Simple loops statements\n",
    "\n",
    "1. break - jumps out of the closest enclosing loop\n",
    "\n",
    "2. continue - jumps to the top of the closest enclosing loop\n",
    "\n",
    "3. pass - don't do anything, this is just a place holder\n",
    "\n",
    "4. loop else block - only runs if the loop exits without using a break"
   ]
  },
  {
   "cell_type": "code",
   "execution_count": 9,
   "metadata": {},
   "outputs": [
    {
     "name": "stdout",
     "output_type": "stream",
     "text": [
      "starting loop with x as 0\n",
      "starting loop with x as 1\n",
      "starting loop with x as 2\n",
      "starting loop with x as 3\n",
      "starting loop with x as 4\n",
      "starting loop with x as 7\n",
      "reached a break\n",
      "done with loop round\n",
      "7\n"
     ]
    }
   ],
   "source": [
    "x = 0\n",
    "\n",
    "while(x)< 10:\n",
    "    print('starting loop with x as',x)\n",
    "    if(x == 2):\n",
    "        pass\n",
    "    if(x == 4):\n",
    "        x=7\n",
    "        continue\n",
    "    if(x==7):\n",
    "        print('reached a break')\n",
    "        break\n",
    "    x +=1\n",
    "else:    \n",
    "    print(\"Condition was true dude\")\n",
    "print('done with loop round')\n",
    "print(x)"
   ]
  },
  {
   "cell_type": "markdown",
   "metadata": {},
   "source": [
    "## Functions\n",
    "A function is a set of statements which are grouped together and assigned a name. This allows code to be reusable by calling the function anywhere in the program without the need to write it everytime. It also allows one point of updation where one just updates the function definition and see the effect take place everywhere it is called. \n",
    "\n",
    "The following is the structure to define a function which is understandable to everyone. We use the ***def*** keyword\n",
    "\n",
    "***def*** func_name(arg1, arg2, ....., argl):\n",
    "\n",
    "    \"\"\"brief description of what the function does and what are the arguments\"\"\"\n",
    "\n",
    "    statements to execute\n",
    "    \n",
    "    return results # optional\n",
    "\n",
    "To call the function in your program you just call by the function name and pass the arguments\n",
    "\n",
    "answer = func_name(inp1,inp2,....inpl)"
   ]
  },
  {
   "cell_type": "markdown",
   "metadata": {},
   "source": [
    "## Creating a function\n",
    "\n",
    "We use the keyword def to create a function.  Lets make a very simple function"
   ]
  },
  {
   "cell_type": "code",
   "execution_count": 10,
   "metadata": {},
   "outputs": [],
   "source": [
    "def printhello():\n",
    "    print(\"Hello everyone\")"
   ]
  },
  {
   "cell_type": "markdown",
   "metadata": {},
   "source": [
    "No we can call that function to get the desired result"
   ]
  },
  {
   "cell_type": "code",
   "execution_count": 11,
   "metadata": {},
   "outputs": [
    {
     "name": "stdout",
     "output_type": "stream",
     "text": [
      "Hello everyone\n"
     ]
    }
   ],
   "source": [
    "printhello()"
   ]
  },
  {
   "cell_type": "markdown",
   "metadata": {},
   "source": [
    "#### What is happening?\n",
    "\n",
    "Def is creating an object and assigning it to the provided name, in this case printhello."
   ]
  },
  {
   "cell_type": "markdown",
   "metadata": {},
   "source": [
    "#### Print out all the multiples of var between input1 and input2\n",
    "\n",
    "We want to print out all the multiples of var entered by user between given inputs"
   ]
  },
  {
   "cell_type": "code",
   "execution_count": 12,
   "metadata": {},
   "outputs": [
    {
     "name": "stdout",
     "output_type": "stream",
     "text": [
      "Enter the var:7\n",
      "Enter the input1:18\n",
      "Enter the input2:97\n",
      "21\n",
      "28\n",
      "35\n",
      "42\n",
      "49\n",
      "56\n",
      "63\n",
      "70\n",
      "77\n",
      "84\n",
      "91\n"
     ]
    }
   ],
   "source": [
    "def multiple(var,val1,val2):\n",
    "    \"\"\"Objective: To print multiples of a number between a range of values.\n",
    "       var: The value whose multiples have to be obtained\n",
    "       val1: the lower limit\n",
    "       val2: the upper limit\n",
    "       The function prints the result here itself instead of returning objects\"\"\"\n",
    "    if(val1 < val2):\n",
    "        while(val1 <= val2):\n",
    "            if(val1 % var == 0):\n",
    "                print(val1)\n",
    "            val1 += 1\n",
    "    elif(val2 <= val1):\n",
    "        while(val2 <= val1):\n",
    "            if(val2 % var == 0):\n",
    "                print(val2)\n",
    "            val2 += 1\n",
    "# Function ends and now we call the function multiple\n",
    "var = int(input(\"Enter the var:\"))\n",
    "input1 = int(input(\"Enter the input1:\"))\n",
    "input2 = int(input(\"Enter the input2:\"))\n",
    "multiple(var,input1,input2)"
   ]
  },
  {
   "cell_type": "markdown",
   "metadata": {},
   "source": [
    "## Returning information\n",
    "\n",
    "To get information back from a function we use the keyword return"
   ]
  },
  {
   "cell_type": "code",
   "execution_count": 13,
   "metadata": {},
   "outputs": [],
   "source": [
    "def the_answer():\n",
    "    return(\"To live and enjoy\")"
   ]
  },
  {
   "cell_type": "code",
   "execution_count": 14,
   "metadata": {},
   "outputs": [
    {
     "name": "stdout",
     "output_type": "stream",
     "text": [
      "the meaning to life, the universe, and everything is To live and enjoy\n"
     ]
    }
   ],
   "source": [
    "print('the meaning to life, the universe, and everything is',the_answer())"
   ]
  },
  {
   "cell_type": "markdown",
   "metadata": {},
   "source": [
    "## Arguments\n",
    "\n",
    "We can also pass in arguments through a few different methods\n",
    "* By name\n",
    "* By position\n",
    "* Keyword"
   ]
  },
  {
   "cell_type": "markdown",
   "metadata": {},
   "source": [
    "#### Assigning arguments by name"
   ]
  },
  {
   "cell_type": "code",
   "execution_count": 15,
   "metadata": {},
   "outputs": [],
   "source": [
    "def times(a, b):\n",
    "    return(a * b)"
   ]
  },
  {
   "cell_type": "code",
   "execution_count": 16,
   "metadata": {},
   "outputs": [
    {
     "data": {
      "text/plain": [
       "28"
      ]
     },
     "execution_count": 16,
     "metadata": {},
     "output_type": "execute_result"
    }
   ],
   "source": [
    "times(a=4, b=7)"
   ]
  },
  {
   "cell_type": "code",
   "execution_count": 17,
   "metadata": {},
   "outputs": [
    {
     "name": "stdout",
     "output_type": "stream",
     "text": [
      "30\n",
      "60\n",
      "90\n",
      "120\n",
      "150\n",
      "180\n",
      "210\n",
      "240\n",
      "270\n"
     ]
    }
   ],
   "source": [
    "def multiples_less_than(value, max_value):\n",
    "    add = value\n",
    "    while value < max_value:\n",
    "        print(value)\n",
    "        value += add\n",
    "multiples_less_than(value = 30, max_value = 300)"
   ]
  },
  {
   "cell_type": "markdown",
   "metadata": {},
   "source": [
    "##### Since we are giving the values names, we can move them around in the function call"
   ]
  },
  {
   "cell_type": "code",
   "execution_count": 18,
   "metadata": {},
   "outputs": [
    {
     "name": "stdout",
     "output_type": "stream",
     "text": [
      "36\n",
      "72\n",
      "108\n",
      "144\n",
      "180\n",
      "216\n",
      "252\n",
      "288\n"
     ]
    }
   ],
   "source": [
    "multiples_less_than(max_value = 300, value = 36)"
   ]
  },
  {
   "cell_type": "markdown",
   "metadata": {},
   "source": [
    "#### Assigning arguments by position\n",
    "\n",
    "For a lot of functions, giving each variable an assignment with a name is overkill, we can just use position"
   ]
  },
  {
   "cell_type": "code",
   "execution_count": 19,
   "metadata": {},
   "outputs": [
    {
     "name": "stdout",
     "output_type": "stream",
     "text": [
      "27\n",
      "14\n",
      "6\n"
     ]
    }
   ],
   "source": [
    "def times(a, b):\n",
    "    return(a * b)\n",
    "print(times(a = 3, b = 9))\n",
    "print(times(7, b=2))\n",
    "print(times(2,3))"
   ]
  },
  {
   "cell_type": "markdown",
   "metadata": {},
   "source": [
    "#### Argument defaults\n",
    "\n",
    "We can also add default values for the input variables by just putting the value in the definition"
   ]
  },
  {
   "cell_type": "code",
   "execution_count": 20,
   "metadata": {},
   "outputs": [
    {
     "name": "stdout",
     "output_type": "stream",
     "text": [
      "34\n",
      "68\n",
      "102\n",
      "136\n",
      "170\n",
      "204\n",
      "238\n",
      "272\n",
      "None\n",
      "38\n",
      "76\n",
      "114\n",
      "152\n",
      "190\n",
      "228\n",
      "266\n",
      "304\n",
      "342\n",
      "380\n",
      "418\n",
      "456\n",
      "494\n",
      "None\n",
      "3\n",
      "6\n",
      "9\n",
      "12\n",
      "15\n",
      "18\n",
      "21\n",
      "24\n",
      "27\n",
      "None\n",
      "54\n",
      "108\n",
      "162\n",
      "216\n",
      "270\n",
      "324\n",
      "378\n",
      "432\n",
      "486\n",
      "540\n",
      "594\n",
      "648\n",
      "702\n",
      "756\n",
      "None\n",
      "157\n",
      "314\n",
      "471\n",
      "628\n",
      "785\n",
      "None\n"
     ]
    }
   ],
   "source": [
    "def multiples_less_than(value, max_value = 799):\n",
    "    add = value\n",
    "    while value < max_value:\n",
    "        print(value)\n",
    "        value += add\n",
    "\n",
    "\n",
    "print(multiples_less_than(value = 34, max_value = 300))\n",
    "print(multiples_less_than(value = 38, max_value = 500))\n",
    "print(multiples_less_than(value = 3, max_value = 28))\n",
    "print(multiples_less_than(value = 54))\n",
    "print(multiples_less_than(value = 157))"
   ]
  }
 ],
 "metadata": {
  "kernelspec": {
   "display_name": "Python 3",
   "language": "python",
   "name": "python3"
  },
  "language_info": {
   "codemirror_mode": {
    "name": "ipython",
    "version": 3
   },
   "file_extension": ".py",
   "mimetype": "text/x-python",
   "name": "python",
   "nbconvert_exporter": "python",
   "pygments_lexer": "ipython3",
   "version": "3.6.5"
  }
 },
 "nbformat": 4,
 "nbformat_minor": 2
}
