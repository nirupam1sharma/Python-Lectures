{
 "cells": [
  {
   "cell_type": "markdown",
   "metadata": {},
   "source": [
    "## File Handling\n",
    "In this jupyter notebook, we will look at how to connect to external files to read and write data"
   ]
  },
  {
   "cell_type": "markdown",
   "metadata": {},
   "source": [
    "### Create a file object\n",
    "Before any file is processed or even opened, user is required to create a file object through which we would interact with file"
   ]
  },
  {
   "cell_type": "markdown",
   "metadata": {},
   "source": [
    "The syntax of the file object is as follows\n",
    "\n",
    "***___fileObjectName = open(fileNameWithLocation, mode)___***\n",
    "\n",
    "The commonly used [modes](https://docs.python.org/3/library/functions.html#open) are as follows\n",
    "\n",
    "1. 'r'\topen for reading -- default\n",
    "2. 'w'\topen for writing, truncating the file first\n",
    "3. 'x'\topen for exclusive creation, failing if the file already exists\n",
    "4. 'a'\topen for writing, appending to the end of the file if it exists\n",
    "5. 'b'\tbinary mode \n",
    "\n",
    "Once we have processes the file then we need to close the file object to release the memory. This achieved using the following statement\n",
    "***___fileObjectName.close()___***"
   ]
  },
  {
   "cell_type": "code",
   "execution_count": 1,
   "metadata": {},
   "outputs": [],
   "source": [
    "fileobj = open(\"testfile.txt\",\"w\")\n",
    "fileobj.close()"
   ]
  },
  {
   "cell_type": "markdown",
   "metadata": {},
   "source": [
    "### Read from a file\n",
    "To read file a file two are followed:\n",
    "1. Create a file object and link it to the file\n",
    "2. Call the read(charactersToRead) function which will return the content of the filw"
   ]
  },
  {
   "cell_type": "code",
   "execution_count": 2,
   "metadata": {},
   "outputs": [
    {
     "name": "stdout",
     "output_type": "stream",
     "text": [
      "<class 'str'>\n",
      "The content of the file is as follows:\n",
      "\n",
      " THE wild bee reels from bough to bough\n",
      "With his furry coat and his gauzy wing.\n",
      "Now in a lily-cup, and now\n",
      "Setting a jacinth bell a-swing,\n",
      "In his wandering;\n",
      "Sit closer love: it was here I trow\n",
      "I made that vow,\n",
      "\n",
      "Swore that two lives should be like one\n",
      "As long as the sea-gull loved the sea,\n",
      "As long as the sunflower sought the sun,--\n",
      "It shall be, I said, for eternity\n",
      "'Twixt you and me!\n",
      "Dear friend, those times are over and done,\n",
      "Love's web is spun.\n",
      "\n",
      "Look upward where the poplar trees\n",
      "Sway and sway in the summer air,\n",
      "Here in the valley never a breeze\n",
      "Scatters the thistledown, but there\n",
      "Great winds blow fair\n",
      "From the mighty murmuring mystical seas,\n",
      "And the wave-lashed leas.\n",
      "\n",
      "Look upward where the white gull screams,\n",
      "What does it see that we do not see?\n",
      "Is that a star? or the lamp that gleams\n",
      "On some outward voyaging argosy,--\n",
      "Ah! can it be\n",
      "We have lived our lives in a land of dreams!\n",
      "How sad it seems.\n",
      "\n",
      "Sweet, there is nothing left to say\n",
      "But this, that love is never lost,\n",
      "Keen winter stabs the breasts of May\n",
      "Whose crimson roses burst his frost,\n",
      "Ships tempest-tossed\n",
      "Will find a harbour in some bay,\n",
      "And so we may.\n",
      "\n",
      "And there is nothing left to do\n",
      "But to kiss once again, and part,\n",
      "Nay, there is nothing we should rue,\n",
      "I have my beauty,--you your Art,\n",
      "Nay, do not start,\n",
      "One world was not enough for two\n",
      "Like me and you. \n"
     ]
    }
   ],
   "source": [
    "fileobj = open(\"testfile1.txt\",\"r\")\n",
    "content = fileobj.read()\n",
    "print(type(content))\n",
    "fileobj.close()\n",
    "print(\"The content of the file is as follows:\\n\\n\",content)"
   ]
  },
  {
   "cell_type": "markdown",
   "metadata": {},
   "source": [
    "# Write to a file\n",
    "When we write to a file, we change the content of the file. To do so, you must open the file in writing mode:\n",
    "Caution: once you open a file in writing mode, anything that it had contained previously will be deleted. If you're interested in adding to an existing file (without deleting its content) you should use append instead of write and open in append mode (using ***___'a' instead of 'w'___***). You can visit the python documentation for more information on the different modes in which you can open a file. If the file does not exist, python will create it for you"
   ]
  },
  {
   "cell_type": "code",
   "execution_count": 3,
   "metadata": {},
   "outputs": [
    {
     "name": "stdout",
     "output_type": "stream",
     "text": [
      "Reading the file after new content has been written\n",
      "THE wild bee reels from bough to bough\n",
      "With his furry coat and his gauzy wing.\n",
      "Now in a lily-cup, and now\n",
      "Setting a jacinth bell a-swing,\n",
      "In his wandering;\n",
      "Sit closer love: it was here I trow\n",
      "I made that vow,\n",
      "\n",
      "Swore that two lives should be like one\n",
      "As long as the sea-gull loved the sea,\n",
      "As long as the sunflower sought the sun,--\n",
      "It shall be, I said, for eternity\n",
      "'Twixt you and me!\n",
      "Dear friend, those times are over and done,\n",
      "Love's web is spun.Please everyone save nature \n"
     ]
    }
   ],
   "source": [
    "fileobj = open(\"textfile1.txt\",\"a\")\n",
    "mytext = \"Please everyone save nature \"\n",
    "fileobj.write(mytext)\n",
    "fileobj.close()\n",
    "print(\"Reading the file after new content has been written\")\n",
    "fileobj = open(\"textfile1.txt\",\"r\")\n",
    "mytext = fileobj.read()\n",
    "print(mytext)\n",
    "fileobj.close()"
   ]
  },
  {
   "cell_type": "markdown",
   "metadata": {},
   "source": [
    "## with operator\n",
    "We have to use the close() function everytime to close the file handle. To make the process automatic, we can use the \"with\" operator as follows"
   ]
  },
  {
   "cell_type": "code",
   "execution_count": 4,
   "metadata": {},
   "outputs": [
    {
     "name": "stdout",
     "output_type": "stream",
     "text": [
      "THE wild bee reels from bough to bough\n",
      "With his furry coat and his gauzy wing.\n",
      "Now in a lily-cup, and now\n",
      "Setting a jacinth bell a-swing,\n",
      "In his wandering;\n",
      "Sit closer love: it was here I trow\n",
      "I made that vow,\n",
      "\n",
      "Swore that two lives should be like one\n",
      "As long as the sea-gull loved the sea,\n",
      "As long as the sunflower sought the sun,--\n",
      "It shall be, I said, for eternity\n",
      "'Twixt you and me!\n",
      "Dear friend, those times are over and done,\n",
      "Love's web is spun.Please everyone save nature \n",
      "<_io.TextIOWrapper name='textfile1.txt' mode='r' encoding='cp1252'>\n"
     ]
    },
    {
     "ename": "ValueError",
     "evalue": "I/O operation on closed file.",
     "output_type": "error",
     "traceback": [
      "\u001b[1;31m---------------------------------------------------------------------------\u001b[0m",
      "\u001b[1;31mValueError\u001b[0m                                Traceback (most recent call last)",
      "\u001b[1;32m<ipython-input-4-c8edc3f9040c>\u001b[0m in \u001b[0;36m<module>\u001b[1;34m()\u001b[0m\n\u001b[0;32m      3\u001b[0m \u001b[0mprint\u001b[0m\u001b[1;33m(\u001b[0m\u001b[0mcontentfile\u001b[0m\u001b[1;33m)\u001b[0m\u001b[1;33m\u001b[0m\u001b[0m\n\u001b[0;32m      4\u001b[0m \u001b[0mprint\u001b[0m\u001b[1;33m(\u001b[0m\u001b[0mfileobj\u001b[0m\u001b[1;33m)\u001b[0m\u001b[1;33m\u001b[0m\u001b[0m\n\u001b[1;32m----> 5\u001b[1;33m \u001b[0mfileobj\u001b[0m\u001b[1;33m.\u001b[0m\u001b[0mread\u001b[0m\u001b[1;33m(\u001b[0m\u001b[1;33m)\u001b[0m \u001b[1;31m# should return an error\u001b[0m\u001b[1;33m\u001b[0m\u001b[0m\n\u001b[0m",
      "\u001b[1;31mValueError\u001b[0m: I/O operation on closed file."
     ]
    }
   ],
   "source": [
    "with open(\"textfile1.txt\",\"r\") as fileobj:\n",
    "    contentfile = fileobj.read()\n",
    "print(contentfile)\n",
    "print(fileobj)\n",
    "fileobj.read() # should return an error"
   ]
  },
  {
   "cell_type": "markdown",
   "metadata": {},
   "source": [
    "### readline() function\n",
    "To read one line at a time we use the readline() function"
   ]
  },
  {
   "cell_type": "code",
   "execution_count": 5,
   "metadata": {},
   "outputs": [
    {
     "name": "stdout",
     "output_type": "stream",
     "text": [
      "THE wild bee reels from bough to bough\n",
      "\n",
      "With his furry coat and his gauzy wing.\n",
      "\n"
     ]
    }
   ],
   "source": [
    "with open(\"testfile1.txt\",\"r\") as fileobj:\n",
    "    print(fileobj.readline())\n",
    "    print(fileobj.readline())"
   ]
  },
  {
   "cell_type": "markdown",
   "metadata": {},
   "source": [
    "#### Assign each letter of the file to a list"
   ]
  },
  {
   "cell_type": "code",
   "execution_count": 6,
   "metadata": {},
   "outputs": [
    {
     "name": "stdout",
     "output_type": "stream",
     "text": [
      "The content of the result is ['T', 'H', 'E', ' ', 'w', 'i', 'l', 'd', ' ', 'b', 'e', 'e', ' ', 'r', 'e', 'e', 'l', 's', ' ', 'f', 'r', 'o', 'm', ' ', 'b', 'o', 'u', 'g', 'h', ' ', 't', 'o', ' ', 'b', 'o', 'u', 'g', 'h', '\\n', 'W', 'i', 't', 'h', ' ', 'h', 'i', 's', ' ', 'f', 'u', 'r', 'r', 'y', ' ', 'c', 'o', 'a', 't', ' ', 'a', 'n', 'd', ' ', 'h', 'i', 's', ' ', 'g', 'a', 'u', 'z', 'y', ' ', 'w', 'i', 'n', 'g', '.', '\\n', 'N', 'o', 'w', ' ', 'i', 'n', ' ', 'a', ' ', 'l', 'i', 'l', 'y', '-', 'c', 'u', 'p', ',', ' ', 'a', 'n', 'd', ' ', 'n', 'o', 'w', '\\n', 'S', 'e', 't', 't', 'i', 'n', 'g', ' ', 'a', ' ', 'j', 'a', 'c', 'i', 'n', 't', 'h', ' ', 'b', 'e', 'l', 'l', ' ', 'a', '-', 's', 'w', 'i', 'n', 'g', ',', '\\n', 'I', 'n', ' ', 'h', 'i', 's', ' ', 'w', 'a', 'n', 'd', 'e', 'r', 'i', 'n', 'g', ';', '\\n', 'S', 'i', 't', ' ', 'c', 'l', 'o', 's', 'e', 'r', ' ', 'l', 'o', 'v', 'e', ':', ' ', 'i', 't', ' ', 'w', 'a', 's', ' ', 'h', 'e', 'r', 'e', ' ', 'I', ' ', 't', 'r', 'o', 'w', '\\n', 'I', ' ', 'm', 'a', 'd', 'e', ' ', 't', 'h', 'a', 't', ' ', 'v', 'o', 'w', ',', '\\n', '\\n', 'S', 'w', 'o', 'r', 'e', ' ', 't', 'h', 'a', 't', ' ', 't', 'w', 'o', ' ', 'l', 'i', 'v', 'e', 's', ' ', 's', 'h', 'o', 'u', 'l', 'd', ' ', 'b', 'e', ' ', 'l', 'i', 'k', 'e', ' ', 'o', 'n', 'e', '\\n', 'A', 's', ' ', 'l', 'o', 'n', 'g', ' ', 'a', 's', ' ', 't', 'h', 'e', ' ', 's', 'e', 'a', '-', 'g', 'u', 'l', 'l', ' ', 'l', 'o', 'v', 'e', 'd', ' ', 't', 'h', 'e', ' ', 's', 'e', 'a', ',', '\\n', 'A', 's', ' ', 'l', 'o', 'n', 'g', ' ', 'a', 's', ' ', 't', 'h', 'e', ' ', 's', 'u', 'n', 'f', 'l', 'o', 'w', 'e', 'r', ' ', 's', 'o', 'u', 'g', 'h', 't', ' ', 't', 'h', 'e', ' ', 's', 'u', 'n', ',', '-', '-', '\\n', 'I', 't', ' ', 's', 'h', 'a', 'l', 'l', ' ', 'b', 'e', ',', ' ', 'I', ' ', 's', 'a', 'i', 'd', ',', ' ', 'f', 'o', 'r', ' ', 'e', 't', 'e', 'r', 'n', 'i', 't', 'y', '\\n', \"'\", 'T', 'w', 'i', 'x', 't', ' ', 'y', 'o', 'u', ' ', 'a', 'n', 'd', ' ', 'm', 'e', '!', '\\n', 'D', 'e', 'a', 'r', ' ', 'f', 'r', 'i', 'e', 'n', 'd', ',', ' ', 't', 'h', 'o', 's', 'e', ' ', 't', 'i', 'm', 'e', 's', ' ', 'a', 'r', 'e', ' ', 'o', 'v', 'e', 'r', ' ', 'a', 'n', 'd', ' ', 'd', 'o', 'n', 'e', ',', '\\n', 'L', 'o', 'v', 'e', \"'\", 's', ' ', 'w', 'e', 'b', ' ', 'i', 's', ' ', 's', 'p', 'u', 'n', '.', '\\n', '\\n', 'L', 'o', 'o', 'k', ' ', 'u', 'p', 'w', 'a', 'r', 'd', ' ', 'w', 'h', 'e', 'r', 'e', ' ', 't', 'h', 'e', ' ', 'p', 'o', 'p', 'l', 'a', 'r', ' ', 't', 'r', 'e', 'e', 's', '\\n', 'S', 'w', 'a', 'y', ' ', 'a', 'n', 'd', ' ', 's', 'w', 'a', 'y', ' ', 'i', 'n', ' ', 't', 'h', 'e', ' ', 's', 'u', 'm', 'm', 'e', 'r', ' ', 'a', 'i', 'r', ',', '\\n', 'H', 'e', 'r', 'e', ' ', 'i', 'n', ' ', 't', 'h', 'e', ' ', 'v', 'a', 'l', 'l', 'e', 'y', ' ', 'n', 'e', 'v', 'e', 'r', ' ', 'a', ' ', 'b', 'r', 'e', 'e', 'z', 'e', '\\n', 'S', 'c', 'a', 't', 't', 'e', 'r', 's', ' ', 't', 'h', 'e', ' ', 't', 'h', 'i', 's', 't', 'l', 'e', 'd', 'o', 'w', 'n', ',', ' ', 'b', 'u', 't', ' ', 't', 'h', 'e', 'r', 'e', '\\n', 'G', 'r', 'e', 'a', 't', ' ', 'w', 'i', 'n', 'd', 's', ' ', 'b', 'l', 'o', 'w', ' ', 'f', 'a', 'i', 'r', '\\n', 'F', 'r', 'o', 'm', ' ', 't', 'h', 'e', ' ', 'm', 'i', 'g', 'h', 't', 'y', ' ', 'm', 'u', 'r', 'm', 'u', 'r', 'i', 'n', 'g', ' ', 'm', 'y', 's', 't', 'i', 'c', 'a', 'l', ' ', 's', 'e', 'a', 's', ',', '\\n', 'A', 'n', 'd', ' ', 't', 'h', 'e', ' ', 'w', 'a', 'v', 'e', '-', 'l', 'a', 's', 'h', 'e', 'd', ' ', 'l', 'e', 'a', 's', '.', '\\n', '\\n', 'L', 'o', 'o', 'k', ' ', 'u', 'p', 'w', 'a', 'r', 'd', ' ', 'w', 'h', 'e', 'r', 'e', ' ', 't', 'h', 'e', ' ', 'w', 'h', 'i', 't', 'e', ' ', 'g', 'u', 'l', 'l', ' ', 's', 'c', 'r', 'e', 'a', 'm', 's', ',', '\\n', 'W', 'h', 'a', 't', ' ', 'd', 'o', 'e', 's', ' ', 'i', 't', ' ', 's', 'e', 'e', ' ', 't', 'h', 'a', 't', ' ', 'w', 'e', ' ', 'd', 'o', ' ', 'n', 'o', 't', ' ', 's', 'e', 'e', '?', '\\n', 'I', 's', ' ', 't', 'h', 'a', 't', ' ', 'a', ' ', 's', 't', 'a', 'r', '?', ' ', 'o', 'r', ' ', 't', 'h', 'e', ' ', 'l', 'a', 'm', 'p', ' ', 't', 'h', 'a', 't', ' ', 'g', 'l', 'e', 'a', 'm', 's', '\\n', 'O', 'n', ' ', 's', 'o', 'm', 'e', ' ', 'o', 'u', 't', 'w', 'a', 'r', 'd', ' ', 'v', 'o', 'y', 'a', 'g', 'i', 'n', 'g', ' ', 'a', 'r', 'g', 'o', 's', 'y', ',', '-', '-', '\\n', 'A', 'h', '!', ' ', 'c', 'a', 'n', ' ', 'i', 't', ' ', 'b', 'e', '\\n', 'W', 'e', ' ', 'h', 'a', 'v', 'e', ' ', 'l', 'i', 'v', 'e', 'd', ' ', 'o', 'u', 'r', ' ', 'l', 'i', 'v', 'e', 's', ' ', 'i', 'n', ' ', 'a', ' ', 'l', 'a', 'n', 'd', ' ', 'o', 'f', ' ', 'd', 'r', 'e', 'a', 'm', 's', '!', '\\n', 'H', 'o', 'w', ' ', 's', 'a', 'd', ' ', 'i', 't', ' ', 's', 'e', 'e', 'm', 's', '.', '\\n', '\\n', 'S', 'w', 'e', 'e', 't', ',', ' ', 't', 'h', 'e', 'r', 'e', ' ', 'i', 's', ' ', 'n', 'o', 't', 'h', 'i', 'n', 'g', ' ', 'l', 'e', 'f', 't', ' ', 't', 'o', ' ', 's', 'a', 'y', '\\n', 'B', 'u', 't', ' ', 't', 'h', 'i', 's', ',', ' ', 't', 'h', 'a', 't', ' ', 'l', 'o', 'v', 'e', ' ', 'i', 's', ' ', 'n', 'e', 'v', 'e', 'r', ' ', 'l', 'o', 's', 't', ',', '\\n', 'K', 'e', 'e', 'n', ' ', 'w', 'i', 'n', 't', 'e', 'r', ' ', 's', 't', 'a', 'b', 's', ' ', 't', 'h', 'e', ' ', 'b', 'r', 'e', 'a', 's', 't', 's', ' ', 'o', 'f', ' ', 'M', 'a', 'y', '\\n', 'W', 'h', 'o', 's', 'e', ' ', 'c', 'r', 'i', 'm', 's', 'o', 'n', ' ', 'r', 'o', 's', 'e', 's', ' ', 'b', 'u', 'r', 's', 't', ' ', 'h', 'i', 's', ' ', 'f', 'r', 'o', 's', 't', ',', '\\n', 'S', 'h', 'i', 'p', 's', ' ', 't', 'e', 'm', 'p', 'e', 's', 't', '-', 't', 'o', 's', 's', 'e', 'd', '\\n', 'W', 'i', 'l', 'l', ' ', 'f', 'i', 'n', 'd', ' ', 'a', ' ', 'h', 'a', 'r', 'b', 'o', 'u', 'r', ' ', 'i', 'n', ' ', 's', 'o', 'm', 'e', ' ', 'b', 'a', 'y', ',', '\\n', 'A', 'n', 'd', ' ', 's', 'o', ' ', 'w', 'e', ' ', 'm', 'a', 'y', '.', '\\n', '\\n', 'A', 'n', 'd', ' ', 't', 'h', 'e', 'r', 'e', ' ', 'i', 's', ' ', 'n', 'o', 't', 'h', 'i', 'n', 'g', ' ', 'l', 'e', 'f', 't', ' ', 't', 'o', ' ', 'd', 'o', '\\n', 'B', 'u', 't', ' ', 't', 'o', ' ', 'k', 'i', 's', 's', ' ', 'o', 'n', 'c', 'e', ' ', 'a', 'g', 'a', 'i', 'n', ',', ' ', 'a', 'n', 'd', ' ', 'p', 'a', 'r', 't', ',', '\\n', 'N', 'a', 'y', ',', ' ', 't', 'h', 'e', 'r', 'e', ' ', 'i', 's', ' ', 'n', 'o', 't', 'h', 'i', 'n', 'g', ' ', 'w', 'e', ' ', 's', 'h', 'o', 'u', 'l', 'd', ' ', 'r', 'u', 'e', ',', '\\n', 'I', ' ', 'h', 'a', 'v', 'e', ' ', 'm', 'y', ' ', 'b', 'e', 'a', 'u', 't', 'y', ',', '-', '-', 'y', 'o', 'u', ' ', 'y', 'o', 'u', 'r', ' ', 'A', 'r', 't', ',', '\\n', 'N', 'a', 'y', ',', ' ', 'd', 'o', ' ', 'n', 'o', 't', ' ', 's', 't', 'a', 'r', 't', ',', '\\n', 'O', 'n', 'e', ' ', 'w', 'o', 'r', 'l', 'd', ' ', 'w', 'a', 's', ' ', 'n', 'o', 't', ' ', 'e', 'n', 'o', 'u', 'g', 'h', ' ', 'f', 'o', 'r', ' ', 't', 'w', 'o', '\\n', 'L', 'i', 'k', 'e', ' ', 'm', 'e', ' ', 'a', 'n', 'd', ' ', 'y', 'o', 'u', '.', ' ']\n"
     ]
    }
   ],
   "source": [
    "result = []\n",
    "with open(\"testfile1.txt\",\"r\") as filehandle:\n",
    "    for line in filehandle.read():\n",
    "        result.append(line)\n",
    "print(\"The content of the result is {}\".format(result))"
   ]
  },
  {
   "cell_type": "markdown",
   "metadata": {},
   "source": [
    "## split(), join() and strip()\n",
    "These are common functions applied on list and strings to convert one form to other and vice versa\n",
    "1. join() =  the join function is used to join the elments of a list into string provided all elements are of string type. The syntax is as follows\n",
    "\n",
    "    ***strvalue = \"separatingcharacter\".join(listname)***\n",
    "\n",
    "2. strip() = this is a string function which is used to remove trailing whitespaces from a string\n",
    "3. split() = this is a string function which is used to split a string into list elements based on a character passed as argument. The result is a list"
   ]
  },
  {
   "cell_type": "code",
   "execution_count": 7,
   "metadata": {},
   "outputs": [
    {
     "name": "stdout",
     "output_type": "stream",
     "text": [
      "Nirupam Sharma walked 3400 steps\n"
     ]
    }
   ],
   "source": [
    "ilist = [\"Nirupam\",\"Sharma\",\"walked\",\"3400\",\"steps\"]\n",
    "ostr = \" \".join(ilist)\n",
    "print(ostr)"
   ]
  },
  {
   "cell_type": "code",
   "execution_count": 8,
   "metadata": {},
   "outputs": [
    {
     "name": "stdout",
     "output_type": "stream",
     "text": [
      "Here we are doing same stuff everyday     has length 41\n",
      "['Here', 'we', 'are', 'doing', 'same', 'stuff', 'everyday', '', '', '', '']\n",
      "Here we are doing same stuff everyday has length 37\n",
      "['Here', 'we', 'are', 'doing', 'same', 'stuff', 'everyday']\n"
     ]
    }
   ],
   "source": [
    "istr = \"Here we are doing same stuff everyday    \"\n",
    "print(istr,\"has length\",len(istr))\n",
    "print(istr.split(\" \"))\n",
    "print(istr.strip(),\"has length\",len(istr.strip()))\n",
    "print(istr.strip().split(\" \"))"
   ]
  },
  {
   "cell_type": "markdown",
   "metadata": {},
   "source": [
    "#### Assign each sentence of the file to a list and word to other list"
   ]
  },
  {
   "cell_type": "code",
   "execution_count": 9,
   "metadata": {},
   "outputs": [
    {
     "name": "stdout",
     "output_type": "stream",
     "text": [
      "[\"THE wild bee reels from bough to boughWith his furry coat and his gauzy wing.Now in a lily-cup, and nowSetting a jacinth bell a-swing,In his wandering;Sit closer love: it was here I trowI made that vow,Swore that two lives should be like oneAs long as the sea-gull loved the sea,As long as the sunflower sought the sun,--It shall be, I said, for eternity'Twixt you and me!Dear friend, those times are over and done,Love's web is spun.Look upward where the poplar treesSway and sway in the summer air,Here in the valley never a breezeScatters the thistledown, but thereGreat winds blow fairFrom the mighty murmuring mystical seas,And the wave-lashed leas.Look upward where the white gull screams,What does it see that we do not see?Is that a star? or the lamp that gleamsOn some outward voyaging argosy,--Ah! can it beWe have lived our lives in a land of dreams!How sad it seems.Sweet, there is nothing left to sayBut this, that love is never lost,Keen winter stabs the breasts of MayWhose crimson roses burst his frost,Ships tempest-tossedWill find a harbour in some bay,And so we may.And there is nothing left to doBut to kiss once again, and part,Nay, there is nothing we should rue,I have my beauty,--you your Art,Nay, do not start,One world was not enough for twoLike me and you\", '']\n",
      "['THE', 'wild', 'bee', 'reels', 'from', 'bough', 'to', 'boughWith', 'his', 'furry', 'coat', 'and', 'his', 'gauzy', 'wing.Now', 'in', 'a', 'lily-cup,', 'and', 'nowSetting', 'a', 'jacinth', 'bell', 'a-swing,In', 'his', 'wandering;Sit', 'closer', 'love:', 'it', 'was', 'here', 'I', 'trowI', 'made', 'that', 'vow,Swore', 'that', 'two', 'lives', 'should', 'be', 'like', 'oneAs', 'long', 'as', 'the', 'sea-gull', 'loved', 'the', 'sea,As', 'long', 'as', 'the', 'sunflower', 'sought', 'the', 'sun,--It', 'shall', 'be,', 'I', 'said,', 'for', \"eternity'Twixt\", 'you', 'and', 'me!Dear', 'friend,', 'those', 'times', 'are', 'over', 'and', \"done,Love's\", 'web', 'is', 'spun.Look', 'upward', 'where', 'the', 'poplar', 'treesSway', 'and', 'sway', 'in', 'the', 'summer', 'air,Here', 'in', 'the', 'valley', 'never', 'a', 'breezeScatters', 'the', 'thistledown,', 'but', 'thereGreat', 'winds', 'blow', 'fairFrom', 'the', 'mighty', 'murmuring', 'mystical', 'seas,And', 'the', 'wave-lashed', 'leas.Look', 'upward', 'where', 'the', 'white', 'gull', 'screams,What', 'does', 'it', 'see', 'that', 'we', 'do', 'not', 'see?Is', 'that', 'a', 'star?', 'or', 'the', 'lamp', 'that', 'gleamsOn', 'some', 'outward', 'voyaging', 'argosy,--Ah!', 'can', 'it', 'beWe', 'have', 'lived', 'our', 'lives', 'in', 'a', 'land', 'of', 'dreams!How', 'sad', 'it', 'seems.Sweet,', 'there', 'is', 'nothing', 'left', 'to', 'sayBut', 'this,', 'that', 'love', 'is', 'never', 'lost,Keen', 'winter', 'stabs', 'the', 'breasts', 'of', 'MayWhose', 'crimson', 'roses', 'burst', 'his', 'frost,Ships', 'tempest-tossedWill', 'find', 'a', 'harbour', 'in', 'some', 'bay,And', 'so', 'we', 'may.And', 'there', 'is', 'nothing', 'left', 'to', 'doBut', 'to', 'kiss', 'once', 'again,', 'and', 'part,Nay,', 'there', 'is', 'nothing', 'we', 'should', 'rue,I', 'have', 'my', 'beauty,--you', 'your', 'Art,Nay,', 'do', 'not', 'start,One', 'world', 'was', 'not', 'enough', 'for', 'twoLike', 'me', 'and', 'you', '']\n"
     ]
    }
   ],
   "source": [
    "lines = []\n",
    "words = []\n",
    "with open(\"testfile1.txt\",\"r\") as filehandle:\n",
    "    content = filehandle.read()\n",
    "    content = content.replace(\"\\n\",\"\")\n",
    "    for line in content.split(\". \"):\n",
    "        lines.append(line)\n",
    "        for word in line.split(\" \"):\n",
    "            words.append(word)\n",
    "print(lines)\n",
    "print(words)"
   ]
  }
 ],
 "metadata": {
  "kernelspec": {
   "display_name": "Python 3",
   "language": "python",
   "name": "python3"
  },
  "language_info": {
   "codemirror_mode": {
    "name": "ipython",
    "version": 3
   },
   "file_extension": ".py",
   "mimetype": "text/x-python",
   "name": "python",
   "nbconvert_exporter": "python",
   "pygments_lexer": "ipython3",
   "version": "3.6.5"
  }
 },
 "nbformat": 4,
 "nbformat_minor": 2
}
