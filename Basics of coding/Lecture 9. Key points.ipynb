{
 "cells": [
  {
   "cell_type": "markdown",
   "metadata": {},
   "source": [
    "# Key important points\n",
    "The aim of this tutorial is to provide some tools and tricks which can be used in coding."
   ]
  },
  {
   "cell_type": "markdown",
   "metadata": {},
   "source": [
    "## Multiline continuation characte '\\'\n",
    "Multiple physical lines can be explicitly joined into a single logical line by use of the line continuation\n",
    "character '\\'. Do remember that when using quotes, this multiline continuation character is not required"
   ]
  },
  {
   "cell_type": "code",
   "execution_count": 3,
   "metadata": {},
   "outputs": [
    {
     "name": "stdout",
     "output_type": "stream",
     "text": [
      "The Monk who sold his Ferrari: written by Robin Sharma\n"
     ]
    }
   ],
   "source": [
    "myFavBook = \"The Monk who sold his Ferrari, by Robin Sharma\"\n",
    "updatedmyFavBook = myFavBook.replace(\",\",\":\"). \\\n",
    "    replace(\"by\",\"written by\")\n",
    "print(updatedmyFavBook)"
   ]
  },
  {
   "cell_type": "markdown",
   "metadata": {},
   "source": [
    "## Avoid characters taken as special characters\n",
    "When we are storing any string and does not want system to take any of the input string character sequence to be special character, we should precede the string by r"
   ]
  },
  {
   "cell_type": "code",
   "execution_count": 7,
   "metadata": {},
   "outputs": [
    {
     "name": "stdout",
     "output_type": "stream",
     "text": [
      "Path1 is C:\n",
      "irupam\n",
      "ewdrive\n",
      "Path2 is C:\\nirupam\\newdrive\n"
     ]
    }
   ],
   "source": [
    "path1 = \"C:\\nirupam\\newdrive\"  \n",
    "path2 = r\"C:\\nirupam\\newdrive\" # other way is to use \"C:\\\\nirupam\\\\newdrive\" \n",
    "print(\"Path1 is {}\".format(path1))\n",
    "print(\"Path2 is {}\".format(path2))"
   ]
  },
  {
   "cell_type": "markdown",
   "metadata": {},
   "source": [
    "#### Working with docstring"
   ]
  },
  {
   "cell_type": "code",
   "execution_count": 9,
   "metadata": {},
   "outputs": [
    {
     "name": "stdout",
     "output_type": "stream",
     "text": [
      "I am putting together a series of tutorials for beginners to \n",
      "get to the next level in python\n"
     ]
    },
    {
     "data": {
      "text/plain": [
       "'I am putting together a series of tutorials for beginners to \\nget to the next level in python'"
      ]
     },
     "execution_count": 9,
     "metadata": {},
     "output_type": "execute_result"
    }
   ],
   "source": [
    "aim = \"\"\"I am putting together a series of tutorials for beginners to \n",
    "get to the next level in python\"\"\"\n",
    "print(aim)\n",
    "aim"
   ]
  },
  {
   "cell_type": "code",
   "execution_count": 10,
   "metadata": {},
   "outputs": [
    {
     "name": "stdout",
     "output_type": "stream",
     "text": [
      "I am putting together a series of tutorials for beginners to get to the next level in python\n"
     ]
    },
    {
     "data": {
      "text/plain": [
       "'I am putting together a series of tutorials for beginners to get to the next level in python'"
      ]
     },
     "execution_count": 10,
     "metadata": {},
     "output_type": "execute_result"
    }
   ],
   "source": [
    "aim = \"\"\"I am putting together a series of tutorials for beginners to \\\n",
    "get to the next level in python\"\"\"\n",
    "print(aim)\n",
    "aim"
   ]
  },
  {
   "cell_type": "markdown",
   "metadata": {},
   "source": [
    "## The curious case of else with loops\n",
    "There is something peculiar about using else with loops.The case happens when we follow a loop with an else statement. If there is break in the loop statement and if that break statement gets executed then the following else statement will be not executed else it will be executed"
   ]
  },
  {
   "cell_type": "code",
   "execution_count": 16,
   "metadata": {},
   "outputs": [
    {
     "name": "stdout",
     "output_type": "stream",
     "text": [
      "10\t11\t12\t13\t14\t15\t16\t17\t18\t19\t20\t\n",
      "else statement executed\n"
     ]
    }
   ],
   "source": [
    "x = 10\n",
    "while x <= 20:\n",
    "    print(x,end=\"\\t\")\n",
    "    x += 1\n",
    "else:\n",
    "    print(\"\\nelse statement executed\")"
   ]
  },
  {
   "cell_type": "code",
   "execution_count": 18,
   "metadata": {},
   "outputs": [
    {
     "name": "stdout",
     "output_type": "stream",
     "text": [
      "10\t11\t12\t13\t14\t15\t16\t17\t18\t"
     ]
    }
   ],
   "source": [
    "x = 10\n",
    "while x <= 20:\n",
    "    print(x,end=\"\\t\")\n",
    "    if x == 18:\n",
    "        break\n",
    "    x += 1\n",
    "else:\n",
    "    print(\"\\nelse statement executed\")"
   ]
  },
  {
   "cell_type": "markdown",
   "metadata": {},
   "source": [
    "## Keyword : enumerate\n",
    "Enumerate keyword is very useful when we need access to both position as well as value of an iterable object. Lets understand with an example"
   ]
  },
  {
   "cell_type": "code",
   "execution_count": 21,
   "metadata": {},
   "outputs": [
    {
     "name": "stdout",
     "output_type": "stream",
     "text": [
      "running without enumerate\n",
      "Element at index 0 is 1 \n",
      "Element at index 1 is 2 \n",
      "Element at index 2 is 3 \n",
      "Element at index 3 is 4 \n",
      "Element at index 4 is 5 \n",
      "Element at index 5 is 6 \n",
      "Element at index 6 is 7 \n",
      "Element at index 7 is 8 \n",
      "Element at index 8 is 9 \n",
      "Element at index 9 is 10 \n",
      "Element at index 10 is 11 \n",
      "Running with enumerate\n",
      "Element at index 0 is 1 \n",
      "Element at index 1 is 2 \n",
      "Element at index 2 is 3 \n",
      "Element at index 3 is 4 \n",
      "Element at index 4 is 5 \n",
      "Element at index 5 is 6 \n",
      "Element at index 6 is 7 \n",
      "Element at index 7 is 8 \n",
      "Element at index 8 is 9 \n",
      "Element at index 9 is 10 \n",
      "Element at index 10 is 11 \n"
     ]
    }
   ],
   "source": [
    "mylist = [1,2,3,4,5,6,7,8,9,10,11]\n",
    "myenum = enumerate(mylist)\n",
    "print(\"running without enumerate\")\n",
    "for index in range(len(mylist)):\n",
    "    print(\"Element at index {} is {} \".format(index,mylist[index]))\n",
    "print(\"Running with enumerate\")\n",
    "for index, value in myenum:\n",
    "    print(\"Element at index {} is {} \".format(index,value))"
   ]
  },
  {
   "cell_type": "code",
   "execution_count": null,
   "metadata": {},
   "outputs": [],
   "source": []
  },
  {
   "cell_type": "code",
   "execution_count": null,
   "metadata": {},
   "outputs": [],
   "source": []
  },
  {
   "cell_type": "code",
   "execution_count": 1,
   "metadata": {},
   "outputs": [],
   "source": [
    "import easygui as eg"
   ]
  },
  {
   "cell_type": "code",
   "execution_count": 3,
   "metadata": {},
   "outputs": [],
   "source": [
    "filename =eg.fileopenbox()"
   ]
  },
  {
   "cell_type": "code",
   "execution_count": 5,
   "metadata": {},
   "outputs": [
    {
     "name": "stdout",
     "output_type": "stream",
     "text": [
      "C:\\Users\\nsharma\\Venus\\Cheese_Cake_Factory_English_Venus_themes_2018-10-02.xlsx\n",
      "<class 'str'>\n"
     ]
    }
   ],
   "source": [
    "print(filename)\n",
    "print(type(filename))"
   ]
  }
 ],
 "metadata": {
  "kernelspec": {
   "display_name": "Python 3",
   "language": "python",
   "name": "python3"
  },
  "language_info": {
   "codemirror_mode": {
    "name": "ipython",
    "version": 3
   },
   "file_extension": ".py",
   "mimetype": "text/x-python",
   "name": "python",
   "nbconvert_exporter": "python",
   "pygments_lexer": "ipython3",
   "version": "3.6.5"
  }
 },
 "nbformat": 4,
 "nbformat_minor": 2
}
