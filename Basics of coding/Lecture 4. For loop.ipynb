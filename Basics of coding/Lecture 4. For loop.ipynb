{
 "cells": [
  {
   "cell_type": "markdown",
   "metadata": {},
   "source": [
    "# For loop\n",
    "For loops are used to iterate over a collection of objects such as lists or tuples. The structure of the for loop is as follows\n",
    "\n",
    "for value in something:\n",
    "        \n",
    "        do something\n",
    "        \n",
    "Have a look at the follwoing code to understand for loops"
   ]
  },
  {
   "cell_type": "code",
   "execution_count": 1,
   "metadata": {
    "scrolled": true
   },
   "outputs": [
    {
     "name": "stdout",
     "output_type": "stream",
     "text": [
      "2\n",
      "4\n",
      "6\n",
      "8\n",
      "10\n",
      "12\n",
      "14\n",
      "16\n",
      "18\n",
      "20\n",
      "22\n",
      "24\n",
      "26\n",
      "28\n",
      "30\n",
      "32\n",
      "34\n",
      "36\n",
      "38\n",
      "40\n",
      "42\n",
      "44\n",
      "46\n",
      "48\n",
      "50\n"
     ]
    }
   ],
   "source": [
    "list1 = list()\n",
    "i = 2\n",
    "while(i <= 50):\n",
    "    list1.append(i)\n",
    "    i = i + 2\n",
    "for number in list1:\n",
    "    print(number)"
   ]
  },
  {
   "cell_type": "markdown",
   "metadata": {},
   "source": [
    "Write a function, `tag_count`, that takes as its argument a list\n",
    "of strings. It should return a count of how many of those strings\n",
    "are XML tags. You can tell if a string is an XML tag if it begins\n",
    "with a left angle bracket \"<\" and ends with a right angle bracket \">\"."
   ]
  },
  {
   "cell_type": "code",
   "execution_count": 2,
   "metadata": {},
   "outputs": [],
   "source": [
    "def tag_count(ilst):\n",
    "    count = 0\n",
    "    for element in ilst:\n",
    "        if(element.startswith(\"<\") or element.endswith(\">\")):\n",
    "           count += 1\n",
    "    return(count)"
   ]
  },
  {
   "cell_type": "code",
   "execution_count": 3,
   "metadata": {},
   "outputs": [
    {
     "name": "stdout",
     "output_type": "stream",
     "text": [
      "number of xml tags are\n",
      "2\n"
     ]
    }
   ],
   "source": [
    "inpvalues = ['<greeting>', 'Hello World!', '</greeting>']\n",
    "print(\"number of xml tags are\")\n",
    "print(tag_count(inpvalues))"
   ]
  },
  {
   "cell_type": "markdown",
   "metadata": {},
   "source": [
    "## range() function\n",
    "In python, when we wan to iterate over a range of values then we can use the range function.\n",
    "\n",
    "The syntax of the range function is range(start,end,step) to iterate from start value to end-1 value in increements of given step value"
   ]
  },
  {
   "cell_type": "code",
   "execution_count": 4,
   "metadata": {},
   "outputs": [
    {
     "name": "stdout",
     "output_type": "stream",
     "text": [
      "22\n",
      "44\n",
      "66\n",
      "88\n"
     ]
    }
   ],
   "source": [
    "# iterate over first hundred even numbers and print the ones divisible by 11\n",
    "for i in range(2,102,2):\n",
    "    if(i % 11 == 0):\n",
    "        print(i)"
   ]
  },
  {
   "cell_type": "markdown",
   "metadata": {},
   "source": [
    "We define a function that multiplies every element of the list by 2"
   ]
  },
  {
   "cell_type": "code",
   "execution_count": 5,
   "metadata": {},
   "outputs": [
    {
     "name": "stdout",
     "output_type": "stream",
     "text": [
      "[2, 4, 6, 8, 10, 12, 14, 16, 18, 20, 22, 24, 26, 28, 30, 32]\n"
     ]
    }
   ],
   "source": [
    "def listby2(lt):\n",
    "    for i in range(0,len(lt)):\n",
    "        lt[i] = lt[i] * 2\n",
    "    return(lt)\n",
    "print(listby2([1,2,3,4,5,6,7,8,9,10,11,12,13,14,15,16]))"
   ]
  },
  {
   "cell_type": "code",
   "execution_count": 6,
   "metadata": {},
   "outputs": [
    {
     "data": {
      "text/plain": [
       "\"Write the html_list function. The function takes one argument, a list of strings,\\nand returns a single string which is an HTML list. \\nFor example, if the function should produce the\\nfollowing string when provided the list ['first string', 'second string'].\\n\\n<ul>\\n<li>first string</li>\\n<li>second string</li>\\n</ul>\""
      ]
     },
     "execution_count": 6,
     "metadata": {},
     "output_type": "execute_result"
    }
   ],
   "source": [
    "\"\"\"Write the html_list function. The function takes one argument, a list of strings,\n",
    "and returns a single string which is an HTML list. \n",
    "For example, if the function should produce the\n",
    "following string when provided the list ['first string', 'second string'].\n",
    "\n",
    "<ul>\n",
    "<li>first string</li>\n",
    "<li>second string</li>\n",
    "</ul>\"\"\""
   ]
  },
  {
   "cell_type": "code",
   "execution_count": 7,
   "metadata": {},
   "outputs": [],
   "source": [
    "def html_list(nlst):\n",
    "    string = \"<ul>\"\n",
    "    for element in nlst:\n",
    "        string = string + \"\\n<li>\" + str(element) + \"</li>\"\n",
    "    string = string + \"\\n</ul>\"\n",
    "    return string"
   ]
  },
  {
   "cell_type": "code",
   "execution_count": 8,
   "metadata": {},
   "outputs": [
    {
     "name": "stdout",
     "output_type": "stream",
     "text": [
      "<ul>\n",
      "<li>my name</li>\n",
      "<li>my age</li>\n",
      "<li>my hobbies</li>\n",
      "<li>my sport</li>\n",
      "</ul>\n"
     ]
    }
   ],
   "source": [
    "print(html_list([\"my name\",\"my age\",\"my hobbies\",\"my sport\"]))"
   ]
  },
  {
   "cell_type": "markdown",
   "metadata": {},
   "source": [
    "Write a function, remove_duplicates that takes a list as its argument and returns a new list containing the unique elements of the original list. The elements in the new list without duplicates can be in any order."
   ]
  },
  {
   "cell_type": "code",
   "execution_count": 9,
   "metadata": {},
   "outputs": [],
   "source": [
    "def remove_duplicates(lt):\n",
    "    nlt = list()\n",
    "    for element in lt:\n",
    "        if(element not in nlt):\n",
    "            nlt.append(element)\n",
    "    return(nlt)"
   ]
  },
  {
   "cell_type": "code",
   "execution_count": 10,
   "metadata": {},
   "outputs": [
    {
     "name": "stdout",
     "output_type": "stream",
     "text": [
      "[1, 2, 3, 4, 5]\n"
     ]
    }
   ],
   "source": [
    "print(remove_duplicates([1,1,2,2,3,3,4,4,5,5]))"
   ]
  },
  {
   "cell_type": "markdown",
   "metadata": {},
   "source": [
    "#### Sets\n",
    "Set is a collection of unqiue elements. Similar to a list, we can iterate over the elements and add new elements using the set.add() function. It also supports use of in operator as well as set.pop() function for processing."
   ]
  },
  {
   "cell_type": "code",
   "execution_count": 11,
   "metadata": {},
   "outputs": [
    {
     "name": "stdout",
     "output_type": "stream",
     "text": [
      "The set is {1, 2, 3, 4, 5, 7, 'Aritifical Intelligence', 11, 22, 'alter world'} with 10 elements\n"
     ]
    }
   ],
   "source": [
    "variable1 = [11,22,3,2,1,2,1,4,5,7,\"Aritifical Intelligence\",\"alter world\"]\n",
    "set1 = set(variable1)\n",
    "print(\"The set is {} with {} elements\".format(set1,len(set1)))"
   ]
  }
 ],
 "metadata": {
  "kernelspec": {
   "display_name": "Python 3",
   "language": "python",
   "name": "python3"
  },
  "language_info": {
   "codemirror_mode": {
    "name": "ipython",
    "version": 3
   },
   "file_extension": ".py",
   "mimetype": "text/x-python",
   "name": "python",
   "nbconvert_exporter": "python",
   "pygments_lexer": "ipython3",
   "version": "3.6.5"
  }
 },
 "nbformat": 4,
 "nbformat_minor": 2
}
