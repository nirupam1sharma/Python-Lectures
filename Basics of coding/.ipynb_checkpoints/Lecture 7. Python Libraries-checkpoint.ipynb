{
 "cells": [
  {
   "cell_type": "markdown",
   "metadata": {},
   "source": [
    "# Python Libraries\n",
    "A Library in python is a named collection of functions, classes and data objects which can be invoked in external programs. To use these elements present inside a library in another python program, user has to load the library. \n",
    "The following are some of the features of python library"
   ]
  },
  {
   "cell_type": "markdown",
   "metadata": {},
   "source": [
    "## Python standard library\n",
    "Python Standard Library as a very big set of programming utilities that one can use to program in Python. It provides new types of objects and functions for a range of common and specialised tasks, from mathematical statistics to software development. User does not have to install them as they come pre-installed with python. To use any module not present in standard library, user will have to first install the package using either ***___pip3 install modulename___*** or ***___conda install modulename___***\n",
    "\n",
    "Some of the common and useful python standard library modules are as follows:\n",
    "\n",
    "1. [csv](https://docs.python.org/3/library/csv.html): very convenient for reading and writing csv files\n",
    "2. [random](https://docs.python.org/3/library/random.html): generates pseudo-random numbers, shuffles sequences randomly and chooses random itemscollections of letters like string.digits (a string containing all characters with are valid digits).\n",
    "3. [re](https://docs.python.org/3/library/re.html): pattern-matching in strings via regular expressions\n",
    "4. [math](https://docs.python.org/3/library/math.html): some standard mathematical functions\n",
    "5. [os](https://docs.python.org/3/library/os.html): interacting with operating systems\n",
    "6. [sys](https://docs.python.org/3/library/sys.html): work directly with the Python interpreter\n",
    "7. [json](https://docs.python.org/3/library/json.html): good for reading and writing json files"
   ]
  },
  {
   "cell_type": "markdown",
   "metadata": {},
   "source": [
    "## Import modules\n",
    "To use the module inside the program following syntax is used\n",
    "1. Import the whole module and use it\n",
    "\n",
    "***___import re___***\n",
    "\n",
    "Then module can be used as ***___re.search()___***\n",
    "\n",
    "2. Import a module and give it an alias\n",
    "\n",
    "***___import math as mt___***\n",
    "\n",
    "Then module can be used as ***___mt.pow(m,n)___***\n",
    "\n",
    "3. Import especific part of a module\n",
    "\n",
    "***___from os import os.path, os.chdir___***\n",
    "\n",
    "When the above command is given then only specific component of the module is loaded"
   ]
  },
  {
   "cell_type": "code",
   "execution_count": 2,
   "metadata": {},
   "outputs": [
    {
     "name": "stdout",
     "output_type": "stream",
     "text": [
      "factorial of the number 11 is 39916800, wish my banck balance read that or even half of that\n"
     ]
    }
   ],
   "source": [
    "import math\n",
    "print(\"factorial of the number 11 is {}, wish my banck balance read that or even half of that\".format(math.factorial(11)))"
   ]
  },
  {
   "cell_type": "markdown",
   "metadata": {},
   "source": [
    "## Some useful third party packages\n",
    "There are certain modules which are not in standard library but are very useful. These are as follows:\n",
    "\n",
    "1. [IPython](https://ipython.org/) - A better interactive Python interpreter\n",
    "2. [Flask](http://flask.pocoo.org/) - a lightweight framework for making web applications and APIs.\n",
    "3. [Django](https://www.djangoproject.com/) - A more featureful framework for making web applications. Django is particularly good for designing complex, content heavy, web applications.\n",
    "4. [Beautiful Soup](https://www.crummy.com/software/BeautifulSoup/) - Used to parse HTML and extract information from it. Great for web scraping.\n",
    "5. [NumPy](http://www.numpy.org/) - The fundamental package for scientific computing with Python. It contains among other things a powerful N-dimensional array object and useful linear algebra capabilities.\n",
    "6. [pandas](http://pandas.pydata.org/) - A library containing high-performance, data structures and data analysis tools. In particular, pandas provides dataframes!\n",
    "7. [matplotlib](http://matplotlib.org/) - a 2D plotting library which produces publication quality figures in a variety of hardcopy formats and interactive environments.\n",
    "8. [ggplot](http://ggplot.yhathq.com/) - Another 2D plotting library, based on R's ggplot2 library.\n",
    "9. [sklearn](http://scikit-learn.org/) - Machine learning library"
   ]
  }
 ],
 "metadata": {
  "kernelspec": {
   "display_name": "Python 3",
   "language": "python",
   "name": "python3"
  },
  "language_info": {
   "codemirror_mode": {
    "name": "ipython",
    "version": 3
   },
   "file_extension": ".py",
   "mimetype": "text/x-python",
   "name": "python",
   "nbconvert_exporter": "python",
   "pygments_lexer": "ipython3",
   "version": "3.6.5"
  }
 },
 "nbformat": 4,
 "nbformat_minor": 2
}
