{
 "cells": [
  {
   "cell_type": "markdown",
   "metadata": {},
   "source": [
    "# Dictionary\n",
    "\n",
    "Dictionary is a collection of key-value pairs such as {key : value} and have the following properties:\n",
    "    \n",
    "1. Dictionary is enclosed in {}.\n",
    "2. The elements of a dictionary are not accessed using an index but with the help of the key such as dictname[\"key\"].\n",
    "3. Elements of dictionary are not ordered\n",
    "4. Dictionary has variable length\n",
    "5. Dictionary can be used to save anything such as other lists, dictionaries,....\n",
    "6. Dictionary can be nested\n",
    "7. Dictionary can be changed and Dictionaries use a hash table for management\n",
    "    "
   ]
  },
  {
   "cell_type": "markdown",
   "metadata": {},
   "source": [
    "### Creating a Dictionary "
   ]
  },
  {
   "cell_type": "code",
   "execution_count": 1,
   "metadata": {},
   "outputs": [
    {
     "name": "stdout",
     "output_type": "stream",
     "text": [
      "Dict1 is of type <class 'dict'>\n",
      "This is the second method to create <class 'dict'>\n",
      "{'name': 'Drew', 'age': 32}\n"
     ]
    }
   ],
   "source": [
    "Dict1 = {}\n",
    "print(\"Dict1 is of type {}\".format(type(Dict1)))\n",
    "Dict2 = dict()\n",
    "print(\"This is the second method to create {}\".format(type(Dict2)))\n",
    "Dict2 = {'name':'Drew', 'age': 32}\n",
    "print(Dict2)"
   ]
  },
  {
   "cell_type": "code",
   "execution_count": 2,
   "metadata": {},
   "outputs": [
    {
     "name": "stdout",
     "output_type": "stream",
     "text": [
      "{'prof': {'name': 'Drew', 'age': 32}}\n"
     ]
    }
   ],
   "source": [
    "D2 = {'prof': Dict2}\n",
    "print(D2)"
   ]
  },
  {
   "cell_type": "code",
   "execution_count": 3,
   "metadata": {},
   "outputs": [
    {
     "name": "stdout",
     "output_type": "stream",
     "text": [
      "{'name': 'Drew', 'age': 32}\n"
     ]
    }
   ],
   "source": [
    "D_a = ['name', 'age']\n",
    "D_b = ['Drew', 32]\n",
    "\n",
    "D = dict(zip(D_a, D_b))\n",
    "\n",
    "print(D)"
   ]
  },
  {
   "cell_type": "code",
   "execution_count": 4,
   "metadata": {},
   "outputs": [
    {
     "name": "stdout",
     "output_type": "stream",
     "text": [
      "<zip object at 0x000001B78FAA3708>\n",
      "<class 'tuple'>\n",
      "('name', 'Drew')\n",
      "<class 'tuple'>\n",
      "('age', 32)\n"
     ]
    }
   ],
   "source": [
    "D_a = ['name', 'age']\n",
    "D_b = ['Drew', 32]\n",
    "t1 = zip(D_a, D_b)\n",
    "print(t1)\n",
    "for x in t1:\n",
    "    print(type(x))\n",
    "    print(x)"
   ]
  },
  {
   "cell_type": "markdown",
   "metadata": {},
   "source": [
    "zip creates a list of pairs (or n-tuples if more than two lists provided).  Very useful in a wide variety of applications, especially walking through two lists simultaneously"
   ]
  },
  {
   "cell_type": "markdown",
   "metadata": {},
   "source": [
    "### Accessing elements in a dictionary "
   ]
  },
  {
   "cell_type": "code",
   "execution_count": 5,
   "metadata": {},
   "outputs": [
    {
     "name": "stdout",
     "output_type": "stream",
     "text": [
      "{'name': 'Drew', 'age': 32}\n",
      "32\n",
      "Drew\n"
     ]
    }
   ],
   "source": [
    "Dict = {'name':'Drew', 'age': 32}\n",
    "\n",
    "print(Dict)\n",
    "\n",
    "print(D['age'])\n",
    "print(D['name'])"
   ]
  },
  {
   "cell_type": "code",
   "execution_count": 6,
   "metadata": {},
   "outputs": [
    {
     "name": "stdout",
     "output_type": "stream",
     "text": [
      "{'prof': {'name': 'Drew', 'age': 32}}\n",
      "32\n"
     ]
    }
   ],
   "source": [
    "Dict2 = {'prof': Dict}\n",
    "\n",
    "print(Dict2)\n",
    "\n",
    "print(Dict2['prof']['age'])"
   ]
  },
  {
   "cell_type": "markdown",
   "metadata": {},
   "source": [
    "### Adding and changing elements of a dictionary "
   ]
  },
  {
   "cell_type": "code",
   "execution_count": 7,
   "metadata": {},
   "outputs": [
    {
     "name": "stdout",
     "output_type": "stream",
     "text": [
      "{'name': 'Drew', 'age': 32, 'job': 'prof'}\n",
      "{'name': 'Drew', 'age': 32, 'job': 'prof', 'height': 69}\n",
      "{'name': 'Drew', 'age': 32, 'job': 'teacher', 'height': 69}\n"
     ]
    }
   ],
   "source": [
    "D = {'name': 'Drew', 'age': 32, 'job': 'prof'}\n",
    "print(D)\n",
    "\n",
    "D['height'] = 69\n",
    "\n",
    "print(D)\n",
    "\n",
    "D['job'] = 'teacher'\n",
    "\n",
    "print(D)"
   ]
  },
  {
   "cell_type": "markdown",
   "metadata": {},
   "source": [
    "### Deleting elements from a dictionary"
   ]
  },
  {
   "cell_type": "code",
   "execution_count": 8,
   "metadata": {},
   "outputs": [
    {
     "name": "stdout",
     "output_type": "stream",
     "text": [
      "{'name': 'Drew', 'age': 32, 'job': 'prof'}\n",
      "{'name': 'Drew', 'age': 32}\n"
     ]
    }
   ],
   "source": [
    "D = {'name': 'Drew', 'age': 32, 'job': 'prof'}\n",
    "print(D)\n",
    "\n",
    "del D['job']\n",
    "\n",
    "print(D)"
   ]
  },
  {
   "cell_type": "markdown",
   "metadata": {},
   "source": [
    "### Build in methods "
   ]
  },
  {
   "cell_type": "markdown",
   "metadata": {},
   "source": [
    "##### Keys\n",
    "\n",
    "Returns all the keys in the dict as a list"
   ]
  },
  {
   "cell_type": "code",
   "execution_count": 9,
   "metadata": {},
   "outputs": [
    {
     "name": "stdout",
     "output_type": "stream",
     "text": [
      "{'name': 'Drew', 'age': 32, 'job': 'prof'}\n",
      "dict_keys(['name', 'age', 'job'])\n"
     ]
    }
   ],
   "source": [
    "D = {'name': 'Drew', 'age': 32, 'job': 'prof'}\n",
    "\n",
    "print(D)\n",
    "\n",
    "print(D.keys())"
   ]
  },
  {
   "cell_type": "markdown",
   "metadata": {},
   "source": [
    "##### Values\n",
    "\n",
    "Returns all the values in the dict as a list"
   ]
  },
  {
   "cell_type": "code",
   "execution_count": 10,
   "metadata": {},
   "outputs": [
    {
     "name": "stdout",
     "output_type": "stream",
     "text": [
      "{'name': 'Drew', 'age': 32, 'job': 'prof'}\n",
      "dict_values(['Drew', 32, 'prof'])\n"
     ]
    }
   ],
   "source": [
    "D = {'name': 'Drew', 'age': 32, 'job': 'prof'}\n",
    "\n",
    "print(D)\n",
    "\n",
    "print(D.values())"
   ]
  },
  {
   "cell_type": "markdown",
   "metadata": {},
   "source": [
    "##### Items\n",
    "\n",
    "Returns of list of key/value pairs"
   ]
  },
  {
   "cell_type": "code",
   "execution_count": 11,
   "metadata": {},
   "outputs": [
    {
     "name": "stdout",
     "output_type": "stream",
     "text": [
      "{'name': 'Drew', 'age': 32, 'job': 'prof'}\n",
      "dict_items([('name', 'Drew'), ('age', 32), ('job', 'prof')])\n"
     ]
    }
   ],
   "source": [
    "D = {'name': 'Drew', 'age': 32, 'job': 'prof'}\n",
    "\n",
    "print(D)\n",
    "\n",
    "print(D.items())"
   ]
  },
  {
   "cell_type": "markdown",
   "metadata": {},
   "source": [
    "##### Copy\n",
    "\n",
    "Makes a new copy of the dictionary.  With copy, they don't point to the same dictionary anymore, a new copy is created."
   ]
  },
  {
   "cell_type": "code",
   "execution_count": 12,
   "metadata": {},
   "outputs": [
    {
     "name": "stdout",
     "output_type": "stream",
     "text": [
      "{'name': 'Drew', 'age': 32, 'job': 'prof'}\n",
      "{'name': 'Drew', 'age': 32, 'job': 'prof'}\n",
      "{'name': 'Drew', 'age': 32, 'job': 'prof', 'sport': 'hockey'}\n",
      "{'name': 'Drew', 'age': 32, 'job': 'prof', 'sport': 'hockey'}\n",
      "True\n"
     ]
    }
   ],
   "source": [
    "D = {'name': 'Drew', 'age': 32, 'job': 'prof'}\n",
    "\n",
    "print(D)\n",
    "\n",
    "E = D\n",
    "\n",
    "print(E)\n",
    "\n",
    "E['sport'] = 'hockey'\n",
    "\n",
    "print(E)\n",
    "print(D)\n",
    "print(E==D)"
   ]
  },
  {
   "cell_type": "code",
   "execution_count": 13,
   "metadata": {},
   "outputs": [
    {
     "name": "stdout",
     "output_type": "stream",
     "text": [
      "{'name': 'Drew', 'age': 32, 'job': 'prof'}\n",
      "{'name': 'Drew', 'age': 32, 'job': 'prof'}\n",
      "{'name': 'Drew', 'age': 32, 'job': 'prof', 'sport': 'hockey'}\n",
      "{'name': 'Drew', 'age': 32, 'job': 'prof'}\n"
     ]
    }
   ],
   "source": [
    "D = {'name': 'Drew', 'age': 32, 'job': 'prof'}\n",
    "\n",
    "print(D)\n",
    "\n",
    "E = D.copy()\n",
    "\n",
    "print(E)\n",
    "\n",
    "E['sport'] = 'hockey'\n",
    "\n",
    "print(E)\n",
    "print(D)"
   ]
  },
  {
   "cell_type": "markdown",
   "metadata": {},
   "source": [
    "##### Clear\n",
    "\n",
    "Clears the dict"
   ]
  },
  {
   "cell_type": "code",
   "execution_count": 14,
   "metadata": {},
   "outputs": [
    {
     "name": "stdout",
     "output_type": "stream",
     "text": [
      "{'name': 'Drew', 'age': 32, 'job': 'prof'}\n",
      "{}\n"
     ]
    }
   ],
   "source": [
    "D = {'name': 'Drew', 'age': 32, 'job': 'prof'}\n",
    "\n",
    "print(D)\n",
    "\n",
    "D.clear()\n",
    "\n",
    "print(D)"
   ]
  },
  {
   "cell_type": "markdown",
   "metadata": {},
   "source": [
    "##### Get\n",
    "\n",
    "Same as just using dict['key']"
   ]
  },
  {
   "cell_type": "code",
   "execution_count": 15,
   "metadata": {},
   "outputs": [
    {
     "name": "stdout",
     "output_type": "stream",
     "text": [
      "{'name': 'Drew', 'age': 32, 'job': 'prof'}\n",
      "Drew\n",
      "{'name': 'Drew', 'age': 32, 'job': 'prof'}\n"
     ]
    }
   ],
   "source": [
    "D = {'name': 'Drew', 'age': 32, 'job': 'prof'}\n",
    "\n",
    "print(D)\n",
    "\n",
    "print(D.get('name'))\n",
    "\n",
    "print(D)"
   ]
  },
  {
   "cell_type": "markdown",
   "metadata": {},
   "source": [
    "##### Pop\n",
    "\n",
    "Returns a value, based on the provided key, from the dictionary.  This value/key pair is then removed from the dictioanry"
   ]
  },
  {
   "cell_type": "code",
   "execution_count": 16,
   "metadata": {},
   "outputs": [
    {
     "name": "stdout",
     "output_type": "stream",
     "text": [
      "{'name': 'Drew', 'age': 32, 'job': 'prof'}\n",
      "prof\n",
      "{'name': 'Drew', 'age': 32}\n"
     ]
    }
   ],
   "source": [
    "D = {'name': 'Drew', 'age': 32, 'job': 'prof'}\n",
    "\n",
    "print(D)\n",
    "\n",
    "print(D.pop('job'))\n",
    "\n",
    "print(D)"
   ]
  },
  {
   "cell_type": "code",
   "execution_count": 17,
   "metadata": {},
   "outputs": [
    {
     "name": "stdout",
     "output_type": "stream",
     "text": [
      "{'name': 'Drew', 'age': 32, 'job': 'prof'}\n",
      "-1\n",
      "{'name': 'Drew', 'age': 32, 'job': 'prof', 'color': -1}\n"
     ]
    }
   ],
   "source": [
    "D = {'name': 'Drew', 'age': 32, 'job': 'prof'}\n",
    "\n",
    "print(D)\n",
    "\n",
    "print(D.setdefault('color', -1))\n",
    "print(D)"
   ]
  },
  {
   "cell_type": "code",
   "execution_count": 19,
   "metadata": {},
   "outputs": [
    {
     "name": "stdout",
     "output_type": "stream",
     "text": [
      "{'name': 'Drew', 'age': 32, 'job': 'prof'}\n",
      "prof\n"
     ]
    }
   ],
   "source": [
    "D = {'name': 'Drew', 'age': 32, 'job': 'prof'}\n",
    "\n",
    "print(D)\n",
    "\n",
    "print(D.setdefault('job', 5))"
   ]
  },
  {
   "cell_type": "markdown",
   "metadata": {},
   "source": [
    "##### Length\n",
    "\n",
    "Returns the number of Key/Value pairs"
   ]
  },
  {
   "cell_type": "code",
   "execution_count": 20,
   "metadata": {},
   "outputs": [
    {
     "name": "stdout",
     "output_type": "stream",
     "text": [
      "{'name': 'Drew', 'age': 32, 'job': 'prof'}\n",
      "3\n"
     ]
    }
   ],
   "source": [
    "D = {'name': 'Drew', 'age': 32, 'job': 'prof'}\n",
    "\n",
    "print(D)\n",
    "\n",
    "print(len(D))"
   ]
  },
  {
   "cell_type": "markdown",
   "metadata": {},
   "source": [
    "# Tuples\n",
    "Tuples are:\n",
    "1. Ordered collections of arbitrary objects just as a list but is immutable except for adding new elements\n",
    "2. You cannot delete an element from a tuple but you can delete tuple itself."
   ]
  },
  {
   "cell_type": "markdown",
   "metadata": {},
   "source": [
    "### Creating a Tuple "
   ]
  },
  {
   "cell_type": "code",
   "execution_count": 21,
   "metadata": {},
   "outputs": [
    {
     "name": "stdout",
     "output_type": "stream",
     "text": [
      "()\n",
      "()\n",
      "(0,)\n",
      "(1, 2)\n"
     ]
    }
   ],
   "source": [
    "T = ()\n",
    "print(T)\n",
    "\n",
    "T = tuple()\n",
    "print(T)\n",
    "\n",
    "T = (0,)  #the comma is needed, or else it treats it as a mathematica ()\n",
    "print(T)\n",
    "\n",
    "T = (1,2)\n",
    "print(T)"
   ]
  },
  {
   "cell_type": "code",
   "execution_count": 22,
   "metadata": {},
   "outputs": [
    {
     "name": "stdout",
     "output_type": "stream",
     "text": [
      "(1, 2, 3, ['hello', 6], 'string', {'name': 'steve'})\n"
     ]
    }
   ],
   "source": [
    "T = (1,2,3,['hello',6],'string', {'name':'steve'})\n",
    "print(T)"
   ]
  },
  {
   "cell_type": "markdown",
   "metadata": {},
   "source": [
    "you don't need to include the () if you have a comma"
   ]
  },
  {
   "cell_type": "code",
   "execution_count": 23,
   "metadata": {},
   "outputs": [
    {
     "name": "stdout",
     "output_type": "stream",
     "text": [
      "(1, 2, 3)\n"
     ]
    }
   ],
   "source": [
    "T = 1,2,3\n",
    "print(T)"
   ]
  },
  {
   "cell_type": "code",
   "execution_count": 24,
   "metadata": {},
   "outputs": [
    {
     "name": "stdout",
     "output_type": "stream",
     "text": [
      "('s', 't', 'r', 'i', 'n', 'g')\n"
     ]
    }
   ],
   "source": [
    "T = tuple('string')\n",
    "print(T)"
   ]
  },
  {
   "cell_type": "code",
   "execution_count": 25,
   "metadata": {},
   "outputs": [
    {
     "name": "stdout",
     "output_type": "stream",
     "text": [
      "['s', 'o', 'm', 'e']\n"
     ]
    }
   ],
   "source": [
    "l = list(\"some\")\n",
    "print(l)"
   ]
  },
  {
   "cell_type": "markdown",
   "metadata": {},
   "source": [
    "### Using Tuples"
   ]
  },
  {
   "cell_type": "markdown",
   "metadata": {},
   "source": [
    "##### Accessing Data"
   ]
  },
  {
   "cell_type": "code",
   "execution_count": 26,
   "metadata": {},
   "outputs": [
    {
     "name": "stdout",
     "output_type": "stream",
     "text": [
      "(1, 2, 3, ['hello', 6], 'string', {'name': 'steve'})\n",
      "['hello', 6]\n"
     ]
    }
   ],
   "source": [
    "T = (1,2,3,['hello',6],'string', {'name':'steve'})\n",
    "\n",
    "print(T)\n",
    "\n",
    "print(T[3])"
   ]
  },
  {
   "cell_type": "markdown",
   "metadata": {},
   "source": [
    "##### Slicing"
   ]
  },
  {
   "cell_type": "code",
   "execution_count": 27,
   "metadata": {},
   "outputs": [
    {
     "name": "stdout",
     "output_type": "stream",
     "text": [
      "(1, 2, 3, ['hello', 6], 'string', {'name': 'steve'})\n",
      "(1, 2, 3)\n",
      "(['hello', 6], 'string', {'name': 'steve'})\n",
      "({'name': 'steve'}, 'string', ['hello', 6], 3, 2, 1)\n"
     ]
    }
   ],
   "source": [
    "T = (1,2,3,['hello',6],'string', {'name':'steve'})\n",
    "\n",
    "print(T)\n",
    "\n",
    "print(T[:3])\n",
    "print(T[3:])\n",
    "print(T[::-1])"
   ]
  },
  {
   "cell_type": "markdown",
   "metadata": {},
   "source": [
    "### Built in Methods"
   ]
  },
  {
   "cell_type": "markdown",
   "metadata": {},
   "source": [
    "##### Index "
   ]
  },
  {
   "cell_type": "code",
   "execution_count": 28,
   "metadata": {},
   "outputs": [
    {
     "name": "stdout",
     "output_type": "stream",
     "text": [
      "(1, 2, 3, ['hello', 6], 'string', {'name': 'steve'})\n",
      "4\n"
     ]
    }
   ],
   "source": [
    "T = (1,2,3,['hello',6],'string', {'name':'steve'})\n",
    "\n",
    "print(T)\n",
    "print(T.index('string'))"
   ]
  },
  {
   "cell_type": "markdown",
   "metadata": {},
   "source": [
    "##### Length "
   ]
  },
  {
   "cell_type": "code",
   "execution_count": 29,
   "metadata": {},
   "outputs": [
    {
     "name": "stdout",
     "output_type": "stream",
     "text": [
      "(1, 2, 3, ['hello', 6], 'string', {'name': 'steve'})\n",
      "6\n"
     ]
    }
   ],
   "source": [
    "T = (1,2,3,['hello',6],'string', {'name':'steve'})\n",
    "\n",
    "print(T)\n",
    "\n",
    "print(len(T))"
   ]
  },
  {
   "cell_type": "markdown",
   "metadata": {},
   "source": [
    "##### Concatenate"
   ]
  },
  {
   "cell_type": "code",
   "execution_count": 30,
   "metadata": {},
   "outputs": [
    {
     "name": "stdout",
     "output_type": "stream",
     "text": [
      "(1, 2, 3, ['hello', 6], 'string', {'name': 'steve'})\n",
      "(1, 2, 3, ['hello', 6], 'string', {'name': 'steve'}, 1, 2, 3, ['hello', 6], 'string', {'name': 'steve'})\n",
      "(1, 2, 3, ['hello', 6], 'string', {'name': 'steve'}, 1, 2, 3, ['hello', 6], 'string', {'name': 'steve'}, 1, 2, 3, ['hello', 6], 'string', {'name': 'steve'}, 1, 2, 3, ['hello', 6], 'string', {'name': 'steve'})\n"
     ]
    }
   ],
   "source": [
    "T = (1,2,3,['hello',6],'string', {'name':'steve'})\n",
    "\n",
    "print(T)\n",
    "T +=T\n",
    "print(T)\n",
    "print(T + T)"
   ]
  },
  {
   "cell_type": "markdown",
   "metadata": {},
   "source": [
    "##### Repeat "
   ]
  },
  {
   "cell_type": "code",
   "execution_count": 31,
   "metadata": {},
   "outputs": [
    {
     "name": "stdout",
     "output_type": "stream",
     "text": [
      "(1, 2, 3, ['hello', 6], 'string', {'name': 'steve'})\n",
      "(1, 2, 3, ['hello', 6], 'string', {'name': 'steve'}, 1, 2, 3, ['hello', 6], 'string', {'name': 'steve'}, 1, 2, 3, ['hello', 6], 'string', {'name': 'steve'})\n"
     ]
    }
   ],
   "source": [
    "T = (1,2,3,['hello',6],'string', {'name':'steve'})\n",
    "\n",
    "print(T)\n",
    "\n",
    "print(T * 3)"
   ]
  },
  {
   "cell_type": "markdown",
   "metadata": {},
   "source": [
    "##### Membership "
   ]
  },
  {
   "cell_type": "code",
   "execution_count": 32,
   "metadata": {},
   "outputs": [
    {
     "name": "stdout",
     "output_type": "stream",
     "text": [
      "(1, 2, 3, ['hello', 6], 'string', {'name': 'steve'})\n",
      "True\n"
     ]
    }
   ],
   "source": [
    "T = (1,2,3,['hello',6],'string', {'name':'steve'})\n",
    "\n",
    "print(T)\n",
    "\n",
    "print('string' in T)"
   ]
  },
  {
   "cell_type": "markdown",
   "metadata": {},
   "source": [
    "##### Count"
   ]
  },
  {
   "cell_type": "code",
   "execution_count": 33,
   "metadata": {},
   "outputs": [
    {
     "name": "stdout",
     "output_type": "stream",
     "text": [
      "(1, 2, 3, ['hello', 6], 'string', {'name': 'steve'})\n",
      "1\n",
      "3\n"
     ]
    }
   ],
   "source": [
    "T = (1,2,3,['hello',6],'string', {'name':'steve'})\n",
    "\n",
    "print(T)\n",
    "\n",
    "print(T.count(3))\n",
    "\n",
    "T3 = T*3\n",
    "\n",
    "print(T3.count(3))"
   ]
  },
  {
   "cell_type": "markdown",
   "metadata": {},
   "source": [
    "Loop Through a Tuple\n",
    "You can loop through the tuple items by using a for loop."
   ]
  },
  {
   "cell_type": "code",
   "execution_count": 34,
   "metadata": {},
   "outputs": [
    {
     "name": "stdout",
     "output_type": "stream",
     "text": [
      "1\n",
      "2\n",
      "3\n",
      "4\n",
      "5\n",
      "6\n",
      "7\n",
      "8\n",
      "9\n",
      "10\n",
      "11\n",
      "12\n",
      "13\n",
      "14\n",
      "15\n",
      "16\n"
     ]
    }
   ],
   "source": [
    "T = (1,2,3,4,5,6,7,8,9,10,11,12,13,14,15,16)\n",
    "for values in T:\n",
    "    print(values)"
   ]
  }
 ],
 "metadata": {
  "kernelspec": {
   "display_name": "Python 3",
   "language": "python",
   "name": "python3"
  },
  "language_info": {
   "codemirror_mode": {
    "name": "ipython",
    "version": 3
   },
   "file_extension": ".py",
   "mimetype": "text/x-python",
   "name": "python",
   "nbconvert_exporter": "python",
   "pygments_lexer": "ipython3",
   "version": "3.6.5"
  }
 },
 "nbformat": 4,
 "nbformat_minor": 2
}
