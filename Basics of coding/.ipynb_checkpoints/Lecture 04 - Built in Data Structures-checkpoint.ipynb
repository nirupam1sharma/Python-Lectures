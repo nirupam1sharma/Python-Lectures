{
 "cells": [
  {
   "cell_type": "markdown",
   "metadata": {
    "collapsed": true
   },
   "source": [
    "# Lists\n",
    "\n",
    "Lists are:\n",
    "\n",
    "    Ordered collections of arbitrary objects\n",
    "    Accessed by offsets\n",
    "    Variable lenght\n",
    "    Can contain any object\n",
    "    They are nestable\n",
    "    Can be changed\n",
    "    Arrays of object references\n",
    "   "
   ]
  },
  {
   "cell_type": "markdown",
   "metadata": {},
   "source": [
    "### Creating a list"
   ]
  },
  {
   "cell_type": "code",
   "execution_count": 1,
   "metadata": {},
   "outputs": [
    {
     "name": "stdout",
     "output_type": "stream",
     "text": [
      "[]\n",
      "['s', 'p', 'a', 'm']\n",
      "[]\n",
      "[1, 2, 'test', 3.45, [1, 2, 3]]\n"
     ]
    }
   ],
   "source": [
    "L = list()\n",
    "print L\n",
    "L = list('spam')\n",
    "print L\n",
    "L = []\n",
    "print L\n",
    "L = [1,2,'test', 3.45, [1,2,3]]\n",
    "print L"
   ]
  },
  {
   "cell_type": "code",
   "execution_count": null,
   "metadata": {
    "collapsed": true
   },
   "outputs": [],
   "source": [
    "print range(-4,4)\n",
    "print list(range(-4,4))"
   ]
  },
  {
   "cell_type": "markdown",
   "metadata": {},
   "source": [
    "Both of the above are the same list, range is a built in function which will create a list with a given range"
   ]
  },
  {
   "cell_type": "markdown",
   "metadata": {},
   "source": [
    "### List Manipulation"
   ]
  },
  {
   "cell_type": "markdown",
   "metadata": {},
   "source": [
    "Lists have a lot of the same functions as strings"
   ]
  },
  {
   "cell_type": "code",
   "execution_count": null,
   "metadata": {
    "collapsed": true
   },
   "outputs": [],
   "source": [
    "L = [1,2,3,'test',['a',5]]\n",
    "print L"
   ]
  },
  {
   "cell_type": "markdown",
   "metadata": {},
   "source": [
    "##### Indexing "
   ]
  },
  {
   "cell_type": "code",
   "execution_count": null,
   "metadata": {
    "collapsed": true
   },
   "outputs": [],
   "source": [
    "print L[0]\n",
    "print L[3]"
   ]
  },
  {
   "cell_type": "markdown",
   "metadata": {},
   "source": [
    "##### Slicing "
   ]
  },
  {
   "cell_type": "code",
   "execution_count": null,
   "metadata": {
    "collapsed": true
   },
   "outputs": [],
   "source": [
    "print L[:3]"
   ]
  },
  {
   "cell_type": "code",
   "execution_count": null,
   "metadata": {
    "collapsed": true
   },
   "outputs": [],
   "source": [
    "print L[::-1]"
   ]
  },
  {
   "cell_type": "markdown",
   "metadata": {},
   "source": [
    "Notice that the list is backwards, but that didn't change the order of the embeded list elements."
   ]
  },
  {
   "cell_type": "code",
   "execution_count": null,
   "metadata": {
    "collapsed": true
   },
   "outputs": [],
   "source": [
    "print L[2:50]"
   ]
  },
  {
   "cell_type": "markdown",
   "metadata": {},
   "source": [
    "Notice that even when given a j value much larger than the lenght of the list, it just prints to the end of the list"
   ]
  },
  {
   "cell_type": "markdown",
   "metadata": {},
   "source": [
    "##### Length "
   ]
  },
  {
   "cell_type": "code",
   "execution_count": null,
   "metadata": {
    "collapsed": true
   },
   "outputs": [],
   "source": [
    "print L\n",
    "print len(L)\n",
    "print len(L[4])"
   ]
  },
  {
   "cell_type": "markdown",
   "metadata": {},
   "source": [
    "##### Concatenating "
   ]
  },
  {
   "cell_type": "code",
   "execution_count": null,
   "metadata": {
    "collapsed": true
   },
   "outputs": [],
   "source": [
    "print [1,2,3] + ['one', 'two', 'three']"
   ]
  },
  {
   "cell_type": "markdown",
   "metadata": {},
   "source": [
    "##### Repeating "
   ]
  },
  {
   "cell_type": "code",
   "execution_count": null,
   "metadata": {
    "collapsed": true
   },
   "outputs": [],
   "source": [
    "print [1,2,3] * 5"
   ]
  },
  {
   "cell_type": "markdown",
   "metadata": {},
   "source": [
    "##### Index "
   ]
  },
  {
   "cell_type": "code",
   "execution_count": null,
   "metadata": {
    "collapsed": true
   },
   "outputs": [],
   "source": [
    "values = [0,1,2,3.14, 9.8]\n",
    "print values\n",
    "print values.index(3.14)"
   ]
  },
  {
   "cell_type": "markdown",
   "metadata": {},
   "source": [
    "### Other List Methods "
   ]
  },
  {
   "cell_type": "markdown",
   "metadata": {},
   "source": [
    "##### Changing elements "
   ]
  },
  {
   "cell_type": "code",
   "execution_count": null,
   "metadata": {
    "collapsed": true
   },
   "outputs": [],
   "source": [
    "range_list = range(0,20)\n",
    "print range_list\n",
    "\n",
    "range_list[0] = -10\n",
    "\n",
    "print range_list"
   ]
  },
  {
   "cell_type": "markdown",
   "metadata": {},
   "source": [
    "##### Membership \n",
    "\n",
    "Checks to see if an object is in the list"
   ]
  },
  {
   "cell_type": "code",
   "execution_count": null,
   "metadata": {
    "collapsed": true
   },
   "outputs": [],
   "source": [
    "print 3 in values\n",
    "print 9.8 in values"
   ]
  },
  {
   "cell_type": "markdown",
   "metadata": {},
   "source": [
    "##### Append \n",
    "\n",
    "Adds the new element to the end of the list"
   ]
  },
  {
   "cell_type": "code",
   "execution_count": null,
   "metadata": {
    "collapsed": true
   },
   "outputs": [],
   "source": [
    "print values\n",
    "values.append(42)\n",
    "print values\n",
    "values.append(256)\n",
    "print values"
   ]
  },
  {
   "cell_type": "markdown",
   "metadata": {},
   "source": [
    "##### Pop \n",
    "\n",
    "Returns the last element of the list, removing it from the list in the process"
   ]
  },
  {
   "cell_type": "code",
   "execution_count": null,
   "metadata": {
    "collapsed": true
   },
   "outputs": [],
   "source": [
    "print values\n",
    "print values.pop()\n",
    "print values\n",
    "print values.pop()\n",
    "print values"
   ]
  },
  {
   "cell_type": "markdown",
   "metadata": {},
   "source": [
    "##### Extend\n",
    "\n",
    "Basically appends all the elements of a list to another list"
   ]
  },
  {
   "cell_type": "code",
   "execution_count": null,
   "metadata": {
    "collapsed": true
   },
   "outputs": [],
   "source": [
    "horcruxes = ['Diary', 'Ring', 'Locket', 'Cup', 'Diadem']\n",
    "snake = ['Nagini']\n",
    "\n",
    "print horcruxes\n",
    "print snake\n",
    "\n",
    "horcruxes.extend(snake)\n",
    "\n",
    "print horcruxes"
   ]
  },
  {
   "cell_type": "markdown",
   "metadata": {},
   "source": [
    "##### Insert \n",
    "\n",
    "Places an object at a specifi palce in a list, pushing the other elements back"
   ]
  },
  {
   "cell_type": "code",
   "execution_count": null,
   "metadata": {
    "collapsed": true
   },
   "outputs": [],
   "source": [
    "horcruxes = ['Diary', 'Ring', 'Locket', 'Cup', 'Diadem']\n",
    "\n",
    "print horcruxes\n",
    "\n",
    "horcruxes.insert(3, 'Nagini')\n",
    "\n",
    "print horcruxes"
   ]
  },
  {
   "cell_type": "markdown",
   "metadata": {},
   "source": [
    "##### Count\n",
    "\n",
    "Gives you back the number of times a given element is in a list"
   ]
  },
  {
   "cell_type": "code",
   "execution_count": null,
   "metadata": {
    "collapsed": true
   },
   "outputs": [],
   "source": [
    "horcruxes = ['Diary', 'Ring', 'Locket', 'Cup', 'Diadem']\n",
    "\n",
    "print horcruxes\n",
    "\n",
    "print horcruxes.count('Diary')\n",
    "\n",
    "horcruxes = horcruxes * 5\n",
    "\n",
    "print horcruxes\n",
    "\n",
    "print horcruxes.count('Diary')"
   ]
  },
  {
   "cell_type": "markdown",
   "metadata": {},
   "source": [
    "##### Sort\n",
    "\n",
    "Sorts the elements of a list in ascending order"
   ]
  },
  {
   "cell_type": "code",
   "execution_count": 2,
   "metadata": {},
   "outputs": [
    {
     "name": "stdout",
     "output_type": "stream",
     "text": [
      "[2, 5, 2, 89, 3.4, 0, -8]\n",
      "[-8, 0, 2, 2, 3.4, 5, 89]\n"
     ]
    }
   ],
   "source": [
    "values = [2,5,2,89,3.4,0,-8]\n",
    "\n",
    "print values\n",
    "\n",
    "values.sort()\n",
    "\n",
    "print values"
   ]
  },
  {
   "cell_type": "markdown",
   "metadata": {},
   "source": [
    "This sort can be reversed"
   ]
  },
  {
   "cell_type": "code",
   "execution_count": null,
   "metadata": {
    "collapsed": true
   },
   "outputs": [],
   "source": [
    "values.sort(reverse=True)\n",
    "\n",
    "print values"
   ]
  },
  {
   "cell_type": "markdown",
   "metadata": {},
   "source": [
    "Sort can have intersting effects based on elements in the list, so be sure to check that you sort will do what you want it to."
   ]
  },
  {
   "cell_type": "code",
   "execution_count": null,
   "metadata": {
    "collapsed": true
   },
   "outputs": [],
   "source": [
    "temp = [1,2,'B', 'a', '99', [1,2], ['a',9]]\n",
    "print temp\n",
    "\n",
    "temp.sort()\n",
    "\n",
    "print temp"
   ]
  },
  {
   "cell_type": "markdown",
   "metadata": {},
   "source": [
    "##### Reverse \n",
    "\n",
    "Reverses the list"
   ]
  },
  {
   "cell_type": "code",
   "execution_count": null,
   "metadata": {
    "collapsed": true
   },
   "outputs": [],
   "source": [
    "horcruxes = ['Diary', 'Ring', 'Locket', 'Cup', 'Diadem', 'Nagini']\n",
    "print horcruxes\n",
    "\n",
    "horcruxes.reverse()\n",
    "\n",
    "print horcruxes"
   ]
  },
  {
   "cell_type": "markdown",
   "metadata": {},
   "source": [
    "##### Remove\n",
    "\n",
    "Remove a particular element from a list"
   ]
  },
  {
   "cell_type": "code",
   "execution_count": null,
   "metadata": {
    "collapsed": true
   },
   "outputs": [],
   "source": [
    "horcruxes = ['Diary', 'Ring', 'Locket', 'Cup', 'Diadem', 'Nagini']\n",
    "\n",
    "print horcruxes\n",
    "\n",
    "horcruxes.remove('Diary')\n",
    "\n",
    "print horcruxes"
   ]
  },
  {
   "cell_type": "markdown",
   "metadata": {},
   "source": [
    "##### Delete \n",
    "\n",
    "Delete an object at a given index from the list"
   ]
  },
  {
   "cell_type": "code",
   "execution_count": null,
   "metadata": {
    "collapsed": true
   },
   "outputs": [],
   "source": [
    "horcruxes = ['Diary', 'Ring', 'Locket', 'Cup', 'Diadem', 'Nagini']\n",
    "\n",
    "print horcruxes\n",
    "\n",
    "print horcruxes[2]\n",
    "\n",
    "del horcruxes[2]\n",
    "\n",
    "print horcruxes"
   ]
  },
  {
   "cell_type": "markdown",
   "metadata": {},
   "source": [
    "### Multidimension Lists\n",
    "\n",
    "Can make a matrix using nested lists, which you can index with successive [.]s"
   ]
  },
  {
   "cell_type": "code",
   "execution_count": null,
   "metadata": {
    "collapsed": true
   },
   "outputs": [],
   "source": [
    "matrix = [[1,2,3], [4,5,6], [7,8,9]]\n",
    "print matrix\n",
    "\n",
    "print matrix[2][1]"
   ]
  },
  {
   "cell_type": "markdown",
   "metadata": {},
   "source": [
    "# Dictionaries\n",
    "\n",
    "Dictionaries are:\n",
    "    \n",
    "    Accessed by key, not offset position\n",
    "    Unorded collections of aritrary objects\n",
    "    Variable length\n",
    "    Can be composed of any object\n",
    "    Can be nested\n",
    "    Can be changed\n",
    "    \n",
    "Dictionaries use a hash table for management\n",
    "    "
   ]
  },
  {
   "cell_type": "markdown",
   "metadata": {},
   "source": [
    "### Creating a Dictionary "
   ]
  },
  {
   "cell_type": "code",
   "execution_count": null,
   "metadata": {
    "collapsed": true
   },
   "outputs": [],
   "source": [
    "D = {}\n",
    "print D\n",
    "D = dict()\n",
    "print D\n",
    "D = {'name':'Drew', 'age': 32}\n",
    "print D"
   ]
  },
  {
   "cell_type": "code",
   "execution_count": null,
   "metadata": {
    "collapsed": true
   },
   "outputs": [],
   "source": [
    "D2 = {'prof': D}\n",
    "print D2"
   ]
  },
  {
   "cell_type": "code",
   "execution_count": null,
   "metadata": {
    "collapsed": true
   },
   "outputs": [],
   "source": [
    "D_a = ['name', 'Drew']\n",
    "D_b = ['age', 32]\n",
    "\n",
    "D = dict([D_a, D_b])\n",
    "\n",
    "print D"
   ]
  },
  {
   "cell_type": "code",
   "execution_count": null,
   "metadata": {
    "collapsed": true
   },
   "outputs": [],
   "source": [
    "D_a = ['name', 'age']\n",
    "D_b = ['Drew', 32]\n",
    "\n",
    "D = dict(zip(D_a, D_b))\n",
    "\n",
    "print D"
   ]
  },
  {
   "cell_type": "code",
   "execution_count": null,
   "metadata": {
    "collapsed": true
   },
   "outputs": [],
   "source": [
    "D_a = ['name', 'age']\n",
    "D_b = ['Drew', 32]\n",
    "\n",
    "print zip(D_a, D_b)"
   ]
  },
  {
   "cell_type": "markdown",
   "metadata": {},
   "source": [
    "zip creates a list of pairs (or n-tuples if more than two lists provided).  Very useful in a wide variety of applications, especially walking through two lists simultaneously"
   ]
  },
  {
   "cell_type": "markdown",
   "metadata": {},
   "source": [
    "### Accessing elements in a dictionary "
   ]
  },
  {
   "cell_type": "code",
   "execution_count": null,
   "metadata": {
    "collapsed": true
   },
   "outputs": [],
   "source": [
    "D = {'name':'Drew', 'age': 32}\n",
    "\n",
    "print D\n",
    "\n",
    "print D['age']\n",
    "print D['name']"
   ]
  },
  {
   "cell_type": "code",
   "execution_count": null,
   "metadata": {
    "collapsed": true
   },
   "outputs": [],
   "source": [
    "D2 = {'prof': D}\n",
    "\n",
    "print D2\n",
    "\n",
    "print D2['prof']['age']"
   ]
  },
  {
   "cell_type": "markdown",
   "metadata": {},
   "source": [
    "### Adding and changing elements of a dictionary "
   ]
  },
  {
   "cell_type": "code",
   "execution_count": null,
   "metadata": {
    "collapsed": true
   },
   "outputs": [],
   "source": [
    "D = {'name': 'Drew', 'age': 32, 'job': 'prof'}\n",
    "print D\n",
    "\n",
    "D['height'] = 69\n",
    "\n",
    "print D\n",
    "\n",
    "D['job'] = 'teacher'\n",
    "\n",
    "print D"
   ]
  },
  {
   "cell_type": "markdown",
   "metadata": {},
   "source": [
    "### Deleting elements from a dictionary"
   ]
  },
  {
   "cell_type": "code",
   "execution_count": null,
   "metadata": {
    "collapsed": true
   },
   "outputs": [],
   "source": [
    "D = {'name': 'Drew', 'age': 32, 'job': 'prof'}\n",
    "print D\n",
    "\n",
    "del D['job']\n",
    "\n",
    "print D"
   ]
  },
  {
   "cell_type": "markdown",
   "metadata": {},
   "source": [
    "### Build in methods "
   ]
  },
  {
   "cell_type": "markdown",
   "metadata": {},
   "source": [
    "##### Keys\n",
    "\n",
    "Returns all the keys in the dict as a list"
   ]
  },
  {
   "cell_type": "code",
   "execution_count": null,
   "metadata": {
    "collapsed": true
   },
   "outputs": [],
   "source": [
    "D = {'name': 'Drew', 'age': 32, 'job': 'prof'}\n",
    "\n",
    "print D\n",
    "\n",
    "print D.keys()"
   ]
  },
  {
   "cell_type": "markdown",
   "metadata": {},
   "source": [
    "##### Values\n",
    "\n",
    "Returns all the values in the dict as a list"
   ]
  },
  {
   "cell_type": "code",
   "execution_count": null,
   "metadata": {
    "collapsed": true
   },
   "outputs": [],
   "source": [
    "D = {'name': 'Drew', 'age': 32, 'job': 'prof'}\n",
    "\n",
    "print D\n",
    "\n",
    "print D.values()"
   ]
  },
  {
   "cell_type": "markdown",
   "metadata": {},
   "source": [
    "##### Items\n",
    "\n",
    "Returns of list of key/value pairs"
   ]
  },
  {
   "cell_type": "code",
   "execution_count": null,
   "metadata": {
    "collapsed": true
   },
   "outputs": [],
   "source": [
    "D = {'name': 'Drew', 'age': 32, 'job': 'prof'}\n",
    "\n",
    "print D\n",
    "\n",
    "print D.items()"
   ]
  },
  {
   "cell_type": "markdown",
   "metadata": {},
   "source": [
    "##### Copy\n",
    "\n",
    "Makes a new copy of the dictionary.  With copy, they con't point to the same dictionary anymore, a new copy is created."
   ]
  },
  {
   "cell_type": "code",
   "execution_count": null,
   "metadata": {
    "collapsed": true
   },
   "outputs": [],
   "source": [
    "D = {'name': 'Drew', 'age': 32, 'job': 'prof'}\n",
    "\n",
    "print D\n",
    "\n",
    "E = D\n",
    "\n",
    "print E\n",
    "\n",
    "E['sport'] = 'hockey'\n",
    "\n",
    "print E\n",
    "print D"
   ]
  },
  {
   "cell_type": "code",
   "execution_count": null,
   "metadata": {
    "collapsed": true
   },
   "outputs": [],
   "source": [
    "D = {'name': 'Drew', 'age': 32, 'job': 'prof'}\n",
    "\n",
    "print D\n",
    "\n",
    "E = D.copy()\n",
    "\n",
    "print E\n",
    "\n",
    "E['sport'] = 'hockey'\n",
    "\n",
    "print E\n",
    "print D"
   ]
  },
  {
   "cell_type": "markdown",
   "metadata": {},
   "source": [
    "##### Clear\n",
    "\n",
    "Clears the dict"
   ]
  },
  {
   "cell_type": "code",
   "execution_count": null,
   "metadata": {
    "collapsed": true
   },
   "outputs": [],
   "source": [
    "D = {'name': 'Drew', 'age': 32, 'job': 'prof'}\n",
    "\n",
    "print D\n",
    "\n",
    "D.clear()\n",
    "\n",
    "print D"
   ]
  },
  {
   "cell_type": "markdown",
   "metadata": {},
   "source": [
    "##### Get\n",
    "\n",
    "Same as just using dict['key']"
   ]
  },
  {
   "cell_type": "code",
   "execution_count": null,
   "metadata": {
    "collapsed": true
   },
   "outputs": [],
   "source": [
    "D = {'name': 'Drew', 'age': 32, 'job': 'prof'}\n",
    "\n",
    "print D\n",
    "\n",
    "print D.get('name')\n",
    "\n",
    "print D"
   ]
  },
  {
   "cell_type": "markdown",
   "metadata": {},
   "source": [
    "##### Pop\n",
    "\n",
    "Returns a value, based on the provided key, from the dictionary.  This value/key pair is then removed from the dictioanry"
   ]
  },
  {
   "cell_type": "code",
   "execution_count": null,
   "metadata": {
    "collapsed": true
   },
   "outputs": [],
   "source": [
    "D = {'name': 'Drew', 'age': 32, 'job': 'prof'}\n",
    "\n",
    "print D\n",
    "\n",
    "print D.pop('job')\n",
    "\n",
    "print D"
   ]
  },
  {
   "cell_type": "markdown",
   "metadata": {},
   "source": [
    "##### Popitem \n",
    "\n",
    "Pops an arbitrary element fromt the dictionary, removing it in the process.  Returns a tuple of the key/value pair"
   ]
  },
  {
   "cell_type": "code",
   "execution_count": null,
   "metadata": {
    "collapsed": true
   },
   "outputs": [],
   "source": [
    "D = {'name': 'Drew', 'age': 32, 'job': 'prof'}\n",
    "\n",
    "print D\n",
    "\n",
    "print D.popitem()\n",
    "\n",
    "print D"
   ]
  },
  {
   "cell_type": "markdown",
   "metadata": {},
   "source": [
    "##### Set Default\n",
    "\n",
    "Searches for a given key in the dictionary, if its not found, it returns the secod parameter as a default.  Helps to combat errors"
   ]
  },
  {
   "cell_type": "code",
   "execution_count": null,
   "metadata": {
    "collapsed": true
   },
   "outputs": [],
   "source": [
    "D = {'name': 'Drew', 'age': 32, 'job': 'prof'}\n",
    "\n",
    "print D\n",
    "\n",
    "print D['color']"
   ]
  },
  {
   "cell_type": "code",
   "execution_count": null,
   "metadata": {
    "collapsed": true
   },
   "outputs": [],
   "source": [
    "D = {'name': 'Drew', 'age': 32, 'job': 'prof'}\n",
    "\n",
    "print D\n",
    "\n",
    "D.setdefault('color', -1)"
   ]
  },
  {
   "cell_type": "code",
   "execution_count": null,
   "metadata": {
    "collapsed": true
   },
   "outputs": [],
   "source": [
    "D = {'name': 'Drew', 'age': 32, 'job': 'prof'}\n",
    "\n",
    "print D\n",
    "\n",
    "print D.setdefault('job', 5)"
   ]
  },
  {
   "cell_type": "markdown",
   "metadata": {},
   "source": [
    "##### Length\n",
    "\n",
    "Returns the number of Key/Value pairs"
   ]
  },
  {
   "cell_type": "code",
   "execution_count": null,
   "metadata": {
    "collapsed": true
   },
   "outputs": [],
   "source": [
    "D = {'name': 'Drew', 'age': 32, 'job': 'prof'}\n",
    "\n",
    "print D\n",
    "\n",
    "print len(D)"
   ]
  },
  {
   "cell_type": "markdown",
   "metadata": {},
   "source": [
    "# Tuples\n",
    "\n",
    "Tuples are:\n",
    "\n",
    "    Ordered collections of arbitrary objects\n",
    "    Accessed by offset\n",
    "    Can not be changed (immutable)\n",
    "    Fixed lenght\n",
    "    Can be composed of any objects\n",
    "    Can be nested\n",
    "    Are abject reference arrays"
   ]
  },
  {
   "cell_type": "markdown",
   "metadata": {},
   "source": [
    "### Creating a Tuple "
   ]
  },
  {
   "cell_type": "code",
   "execution_count": null,
   "metadata": {
    "collapsed": true
   },
   "outputs": [],
   "source": [
    "T = ()\n",
    "print T\n",
    "\n",
    "T = tuple()\n",
    "print T\n",
    "\n",
    "T = (0,)  #the comma is needed, or else it treats it as a mathematica ()\n",
    "print T\n",
    "\n",
    "T = (1,2)\n",
    "print T"
   ]
  },
  {
   "cell_type": "code",
   "execution_count": null,
   "metadata": {
    "collapsed": true
   },
   "outputs": [],
   "source": [
    "T = (1,2,3,['hello',6],'string', {'name':'steve'})\n",
    "print T"
   ]
  },
  {
   "cell_type": "markdown",
   "metadata": {},
   "source": [
    "you don't need to include the () if you have a comma"
   ]
  },
  {
   "cell_type": "code",
   "execution_count": null,
   "metadata": {
    "collapsed": true
   },
   "outputs": [],
   "source": [
    "T = 1,2,3\n",
    "print T"
   ]
  },
  {
   "cell_type": "code",
   "execution_count": null,
   "metadata": {
    "collapsed": true
   },
   "outputs": [],
   "source": [
    "T = tuple('string')\n",
    "print T"
   ]
  },
  {
   "cell_type": "markdown",
   "metadata": {},
   "source": [
    "### Using Tuples"
   ]
  },
  {
   "cell_type": "markdown",
   "metadata": {},
   "source": [
    "##### Accessing Data"
   ]
  },
  {
   "cell_type": "code",
   "execution_count": null,
   "metadata": {
    "collapsed": true
   },
   "outputs": [],
   "source": [
    "T = (1,2,3,['hello',6],'string', {'name':'steve'})\n",
    "\n",
    "print T\n",
    "\n",
    "print T[3]"
   ]
  },
  {
   "cell_type": "markdown",
   "metadata": {},
   "source": [
    "##### Slicing"
   ]
  },
  {
   "cell_type": "code",
   "execution_count": null,
   "metadata": {
    "collapsed": true
   },
   "outputs": [],
   "source": [
    "T = (1,2,3,['hello',6],'string', {'name':'steve'})\n",
    "\n",
    "print T\n",
    "\n",
    "print T[:3]\n",
    "print T[3:]\n",
    "print T[::-1]"
   ]
  },
  {
   "cell_type": "markdown",
   "metadata": {},
   "source": [
    "### Built in Methods"
   ]
  },
  {
   "cell_type": "markdown",
   "metadata": {},
   "source": [
    "##### Index "
   ]
  },
  {
   "cell_type": "code",
   "execution_count": null,
   "metadata": {
    "collapsed": true
   },
   "outputs": [],
   "source": [
    "T = (1,2,3,['hello',6],'string', {'name':'steve'})\n",
    "\n",
    "print T\n",
    "\n",
    "print T.index('string')"
   ]
  },
  {
   "cell_type": "markdown",
   "metadata": {},
   "source": [
    "##### Length "
   ]
  },
  {
   "cell_type": "code",
   "execution_count": null,
   "metadata": {
    "collapsed": true
   },
   "outputs": [],
   "source": [
    "T = (1,2,3,['hello',6],'string', {'name':'steve'})\n",
    "\n",
    "print T\n",
    "\n",
    "print len(T)"
   ]
  },
  {
   "cell_type": "markdown",
   "metadata": {},
   "source": [
    "##### Concatenate"
   ]
  },
  {
   "cell_type": "code",
   "execution_count": null,
   "metadata": {
    "collapsed": true
   },
   "outputs": [],
   "source": [
    "T = (1,2,3,['hello',6],'string', {'name':'steve'})\n",
    "\n",
    "print T\n",
    "\n",
    "print T + T"
   ]
  },
  {
   "cell_type": "markdown",
   "metadata": {},
   "source": [
    "##### Repeat "
   ]
  },
  {
   "cell_type": "code",
   "execution_count": null,
   "metadata": {
    "collapsed": true
   },
   "outputs": [],
   "source": [
    "T = (1,2,3,['hello',6],'string', {'name':'steve'})\n",
    "\n",
    "print T\n",
    "\n",
    "print T * 3"
   ]
  },
  {
   "cell_type": "markdown",
   "metadata": {},
   "source": [
    "##### Membership "
   ]
  },
  {
   "cell_type": "code",
   "execution_count": null,
   "metadata": {
    "collapsed": true
   },
   "outputs": [],
   "source": [
    "T = (1,2,3,['hello',6],'string', {'name':'steve'})\n",
    "\n",
    "print T\n",
    "\n",
    "print 'string' in T"
   ]
  },
  {
   "cell_type": "markdown",
   "metadata": {},
   "source": [
    "##### Count"
   ]
  },
  {
   "cell_type": "code",
   "execution_count": null,
   "metadata": {
    "collapsed": true
   },
   "outputs": [],
   "source": [
    "T = (1,2,3,['hello',6],'string', {'name':'steve'})\n",
    "\n",
    "print T\n",
    "\n",
    "print T.count(3)\n",
    "\n",
    "T3 = T*3\n",
    "\n",
    "print T3.count(3)"
   ]
  },
  {
   "cell_type": "markdown",
   "metadata": {},
   "source": [
    "# The Type Function\n",
    "\n",
    "The Type function can be used to determine the type of a variable or object"
   ]
  },
  {
   "cell_type": "code",
   "execution_count": null,
   "metadata": {
    "collapsed": true
   },
   "outputs": [],
   "source": [
    "L = list()\n",
    "L.append(4)\n",
    "\n",
    "print L\n",
    "print type(L)\n",
    "\n",
    "print type(L) is list"
   ]
  },
  {
   "cell_type": "code",
   "execution_count": null,
   "metadata": {
    "collapsed": true
   },
   "outputs": [],
   "source": [
    "D = {'name': 'Drew', 'age': 32, 'job': 'prof'}\n",
    "\n",
    "print D\n",
    "print type(D)\n",
    "\n",
    "print type(D) is dict"
   ]
  },
  {
   "cell_type": "code",
   "execution_count": null,
   "metadata": {
    "collapsed": true
   },
   "outputs": [],
   "source": [
    "T = (1,2,3,['hello',6],'string', {'name':'steve'})\n",
    "\n",
    "print T\n",
    "print type(T)\n",
    "\n",
    "print type(T) is tuple"
   ]
  },
  {
   "cell_type": "code",
   "execution_count": null,
   "metadata": {
    "collapsed": true
   },
   "outputs": [],
   "source": [
    "L = list()\n",
    "L2 = list()\n",
    "\n",
    "D = dict()\n",
    "\n",
    "T = tuple()\n",
    "\n",
    "print type(L) == type(L)\n",
    "print type(L) is type(L)\n",
    "\n",
    "print type(L) is type(D)\n",
    "\n",
    "print type(D) == type(T)"
   ]
  },
  {
   "cell_type": "markdown",
   "metadata": {},
   "source": [
    "# Comments\n",
    "\n",
    "In python we use # for comments, which means anything after # with not be ran as code"
   ]
  },
  {
   "cell_type": "code",
   "execution_count": null,
   "metadata": {
    "collapsed": true
   },
   "outputs": [],
   "source": [
    "L = [1,2,3]\n",
    "\n",
    "print L\n",
    "\n",
    "#L.append(9)\n",
    "\n",
    "print L\n",
    "\n",
    "L.append(5) #L.append(328) won't be ran\n",
    "\n",
    "print L"
   ]
  }
 ],
 "metadata": {
  "anaconda-cloud": {},
  "kernelspec": {
   "display_name": "Python 3",
   "language": "python",
   "name": "python3"
  },
  "language_info": {
   "codemirror_mode": {
    "name": "ipython",
    "version": 3
   },
   "file_extension": ".py",
   "mimetype": "text/x-python",
   "name": "python",
   "nbconvert_exporter": "python",
   "pygments_lexer": "ipython3",
   "version": "3.6.5"
  }
 },
 "nbformat": 4,
 "nbformat_minor": 2
}
