{
 "cells": [
  {
   "cell_type": "markdown",
   "metadata": {},
   "source": [
    "# Python Tutorial 1: Basic Syntax\n",
    "This is the first tutorial in the learn Python series. In this tutorial we would understand basic Python Syntax. The tutorial has been designed to work with Python 3. The software used for coding is [Anaconda](https://www.anaconda.com/download/). To start jupyter notebook and understand how it works you can go to following [link](https://jupyter-notebook-beginner-guide.readthedocs.io/en/latest/execute.html). I believe you already have the software installed and are ready to go. Let's get started on this thrilling journey "
   ]
  },
  {
   "cell_type": "markdown",
   "metadata": {},
   "source": [
    "#### Printing on the console\n",
    "To see the results you need to find a way to put them on the screen. In python, you do this using the ***print()*** function. Whatever objects we need to see, we pass them as arguments to mentioned fucntion. On execution, the print() statement will return the output on the screen. Let us see an example to understand better.  "
   ]
  },
  {
   "cell_type": "code",
   "execution_count": 1,
   "metadata": {},
   "outputs": [
    {
     "name": "stdout",
     "output_type": "stream",
     "text": [
      "This is my first python program and soon I'll be creating magic on computers.\n"
     ]
    }
   ],
   "source": [
    "print(\"This is my first python program and soon I'll be creating magic on computers.\")"
   ]
  },
  {
   "cell_type": "markdown",
   "metadata": {},
   "source": [
    "#### Commenting\n",
    "We use comments when we want to provide some textual description of the code and does not want the system to execute that description. You can comment an entire line by preceding it with #. For example"
   ]
  },
  {
   "cell_type": "code",
   "execution_count": 2,
   "metadata": {},
   "outputs": [
    {
     "name": "stdout",
     "output_type": "stream",
     "text": [
      "But I'LL be executed\n"
     ]
    }
   ],
   "source": [
    "## This is a comment and will not be executed\n",
    "## print(\"I will not be executed\")\n",
    "print(\"But I'LL be executed\")"
   ]
  },
  {
   "cell_type": "markdown",
   "metadata": {},
   "source": [
    "In order to create multiple line comments we use triple quotes \"\"\". Anything written between a pair of these tripple quotes will be treated as a comment. "
   ]
  },
  {
   "cell_type": "code",
   "execution_count": 3,
   "metadata": {},
   "outputs": [
    {
     "name": "stdout",
     "output_type": "stream",
     "text": [
      "Great you finally know how to tell the system what to execute and what not.\n"
     ]
    }
   ],
   "source": [
    "\"\"\"This is a multiple\n",
    "lines comment. These set\n",
    "of lines will not be\n",
    "executed and instead the following\n",
    "line will be executed.\"\"\"\n",
    "print(\"Great you finally know how to tell the system what to execute and what not.\")"
   ]
  },
  {
   "cell_type": "markdown",
   "metadata": {},
   "source": [
    "#### Some additional features with print()\n",
    "We may use some additional arguments such as ***end and sep*** when we pass multiple objects to print() so as to inform how to separate these multiple objects and once execution is done should the control go to new line or not."
   ]
  },
  {
   "cell_type": "code",
   "execution_count": 4,
   "metadata": {},
   "outputs": [
    {
     "name": "stdout",
     "output_type": "stream",
     "text": [
      "print is awesome right\n",
      "this$print$customization$enjoy\tdid you see\n"
     ]
    }
   ],
   "source": [
    "print(\"print is\",\"awesome\",\"right\")\n",
    "print(\"this\",\"print\",\"customization\",\"enjoy\",sep=\"$\",end=\"\\t\")\n",
    "print(\"did you see\")"
   ]
  },
  {
   "cell_type": "markdown",
   "metadata": {},
   "source": [
    "## Arithmetic operations\n",
    "To perform the arithmetic operations following operations can be used.\n",
    "\n",
    "1. Addition: To perform addition between two numeric objects use ***\"+\"*** operator.\n",
    "2. Subtraction: To perform addition between two numeric objects use ***\"-\"*** operator.\n",
    "3. Division: To perform addition between two numeric objects use ***\"/\"*** operator for decimal result and use ***\"//\"*** for integer results.\n",
    "4. Multiplication: To perform addition between two numeric objects use ____*____ operator.\n",
    "5. Exponent: To perform addition between two numeric objects use ___\"**\"___ operator.\n",
    "6. Remainder: To perform addition between two numeric objects use ***\"%\"*** operator.\n",
    "Lets have a look at some of the examples:\n",
    "\n",
    "I have 18 candies and my friend has 7. We have 5 boxes to keep them. Let us figure out certain values.\n"
   ]
  },
  {
   "cell_type": "code",
   "execution_count": 5,
   "metadata": {},
   "outputs": [
    {
     "name": "stdout",
     "output_type": "stream",
     "text": [
      "We have 25 candies between two of us as of now\n",
      "My friend needs to buy 11 candies\n",
      "The product is 126\n",
      "The number of boxes required is 5.0 and if it were integer result then 5\n",
      "1 candy would remain after division between two people\n",
      "The result of 7^18 is 1628413597910449\n"
     ]
    }
   ],
   "source": [
    "# How many candies do we have combined\n",
    "print(\"We have\",18+7,\"candies between two of us as of now\")\n",
    "# How many candies does my friend need to buy so that we would end up having equal number\n",
    "print(\"My friend needs to buy\",18-7,\"candies\")\n",
    "# What is the product of number of candies each of me and my friend has\n",
    "print(\"The product is\",18*7)\n",
    "# What is the number of boxes we need if each box can fit 5 candies \n",
    "print(\"The number of boxes required is\",25/5,\"and if it were integer result then\",25//5)\n",
    "# How many candies would remain if we were divide our candies equally\n",
    "print(25%2,\"candy\",\"would remain after division between two people\")\n",
    "# How much is my friend's candies raised to power of my candies\n",
    "print(\"The result of 7^18 is\",7**18)"
   ]
  },
  {
   "cell_type": "markdown",
   "metadata": {},
   "source": [
    "#### Assign priority to specific operation\n",
    "When we have multiple operations then by default following order is used: PEMDAS : \n",
    "\n",
    "***___(High Priority)___*** ___Parenthesis >>>>> Exponent >>>>> Multiplication >>>>> Division >>>>> Addition >>>>> Subtraction___ ***___(Low Priority)___***"
   ]
  },
  {
   "cell_type": "code",
   "execution_count": 6,
   "metadata": {},
   "outputs": [
    {
     "name": "stdout",
     "output_type": "stream",
     "text": [
      "39.666666666666664\n"
     ]
    }
   ],
   "source": [
    "print((23+32+64)/3)"
   ]
  },
  {
   "cell_type": "markdown",
   "metadata": {},
   "source": [
    "## Types of the data in Python\n",
    "In python 3, there are following 4 types of data:\n",
    "1. ***___Integer___***: Any number without the fraction part is called an integer such as 2,5,7,9,-13, -17, 0, 999, etc\n",
    "2. ***___Float___***: When we attach a fractional part to an integer then the result is a float value which is short for floating point numbers such as 2.5, 7.999999, 16.7979797, etc.\n",
    "3. ***___String___***: A sequence of characters store within \"\" is called a string such as \"Python\", \"Awesome Language\", \"I'm alive\", etc.We are free to use either ***\" \"*** or ***' '*** to store string\n",
    "4. ***___Boolean___***: To store logical results such as True of False we use boolean types\n",
    "#### Check the type of value\n",
    "In order to check the type of the value, we use the ***type()*** which returns whether the object is integer or float or a string"
   ]
  },
  {
   "cell_type": "code",
   "execution_count": 7,
   "metadata": {},
   "outputs": [
    {
     "name": "stdout",
     "output_type": "stream",
     "text": [
      "type of 4 is <class 'int'>\n",
      "type of 4.7 is <class 'float'>\n",
      "type of 'World is an enigma' is <class 'str'>\n",
      "type of True or False is <class 'bool'>\n"
     ]
    }
   ],
   "source": [
    "print(\"type of 4 is\",type(4))\n",
    "print(\"type of 4.7 is\",type(4.7))\n",
    "print(\"type of 'World is an enigma' is\",type(\"World is an enigma\"))\n",
    "print(\"type of True or False is\",type(True))"
   ]
  },
  {
   "cell_type": "markdown",
   "metadata": {},
   "source": [
    "## Variables\n",
    "To assign name to any specific value in program we use variables. A variable in python can store any kind of data and can be updated as often anywhere in the program. The following syntax is used to create them.\n",
    "\n",
    "***Variable_Name = Value***"
   ]
  },
  {
   "cell_type": "code",
   "execution_count": 8,
   "metadata": {},
   "outputs": [
    {
     "name": "stdout",
     "output_type": "stream",
     "text": [
      "The population density of Cincinnati is 126.5668266307986\n"
     ]
    }
   ],
   "source": [
    "city = \"Cincinnati\" # We assigned string \"Cincinnati\" to variable city\n",
    "population = 1234567 # We assigned integer 1234567 to variable population\n",
    "area= 9754.27 # We assigned float 9754.27 to variable area\n",
    "population_density = population / area\n",
    "print(\"The population density of\",city,\"is\",population_density)"
   ]
  },
  {
   "cell_type": "markdown",
   "metadata": {},
   "source": [
    "Useful Tricks"
   ]
  },
  {
   "cell_type": "markdown",
   "metadata": {},
   "source": [
    "1. We assign multiple values using \",\" such as ***___a,b,c,d= 2,False,5.7,\"Climate Change\"___*** will assign 2 to a, False to b, 5.7 to c and \"Climate Change\" to d.\n",
    "2. We can use ***___var += var2___*** to indicate var = var +var2. Any arithmetic operator can replace +"
   ]
  },
  {
   "cell_type": "code",
   "execution_count": 9,
   "metadata": {
    "scrolled": true
   },
   "outputs": [
    {
     "name": "stdout",
     "output_type": "stream",
     "text": [
      "a is 2 \n",
      "b is False \n",
      "c is 5.7 \n",
      "d is Climate Change\n",
      "a is 158\n"
     ]
    }
   ],
   "source": [
    "a,b,c,d = 2, False, 5.7 ,\"Climate Change\"\n",
    "print(\"a is\",a,\"\\nb is\",b,\"\\nc is\",c,\"\\nd is\",d)\n",
    "a *= 79\n",
    "print(\"a is\",a)"
   ]
  },
  {
   "cell_type": "markdown",
   "metadata": {},
   "source": [
    "We can also change the type of variable if that is allowed based on current type using the int(), float(), string() function"
   ]
  },
  {
   "cell_type": "code",
   "execution_count": 10,
   "metadata": {},
   "outputs": [
    {
     "name": "stdout",
     "output_type": "stream",
     "text": [
      "<class 'float'>\n"
     ]
    }
   ],
   "source": [
    "float_a = float(a)\n",
    "print(type(float_a))"
   ]
  },
  {
   "cell_type": "markdown",
   "metadata": {},
   "source": [
    "### Using format()\n",
    "One very useful and standard way to print the text with dynamic companents such as variable values is by using the format function as shown below"
   ]
  },
  {
   "cell_type": "code",
   "execution_count": 11,
   "metadata": {},
   "outputs": [
    {
     "name": "stdout",
     "output_type": "stream",
     "text": [
      "a is 158 \n",
      "b is False\n",
      "a is 158 \n",
      "b is False\n"
     ]
    }
   ],
   "source": [
    "print(\"a is {} \\nb is {}\".format(a,b)) # order is used to put objects in string\n",
    "print(\"a is {a} \\nb is {b}\".format(b=b,a=a)) # order doesn't matter"
   ]
  },
  {
   "cell_type": "markdown",
   "metadata": {},
   "source": [
    "## To get raw input from the user and store received input in variable\n",
    "We use the python's in built function ***input()**** to get the input from the user. This input is stored as string"
   ]
  },
  {
   "cell_type": "code",
   "execution_count": 12,
   "metadata": {},
   "outputs": [
    {
     "name": "stdout",
     "output_type": "stream",
     "text": [
      "Enter something\t97\n",
      "<class 'str'>\n"
     ]
    }
   ],
   "source": [
    "inpu = input(\"Enter something\\t\")\n",
    "print(type(inpu))"
   ]
  },
  {
   "cell_type": "code",
   "execution_count": 13,
   "metadata": {},
   "outputs": [
    {
     "name": "stdout",
     "output_type": "stream",
     "text": [
      "97\n"
     ]
    }
   ],
   "source": [
    "print(inpu)"
   ]
  },
  {
   "cell_type": "markdown",
   "metadata": {},
   "source": [
    "## Comparisons\n",
    "Now we look at how to use logical operators to compare objects. We have the follwoing logical operations and python which return boolean values\n",
    "1. less than\t<\n",
    "2. greater than\t>\n",
    "3. less than or equal to\t<=\n",
    "4. greater than or equal to\t>=\n",
    "5. equal to\t==\n",
    "6. not equal to\t!="
   ]
  },
  {
   "cell_type": "code",
   "execution_count": 14,
   "metadata": {},
   "outputs": [
    {
     "name": "stdout",
     "output_type": "stream",
     "text": [
      "is 4 less than 5: True\n",
      "is 4 more than 5: False\n",
      "is 'string' equal to 'string': True\n",
      "is 7/21 equal to or greater than 3.14: False\n",
      "is pasta not equal to brocolli: True\n"
     ]
    }
   ],
   "source": [
    "print(\"is 4 less than 5:\",4<5)\n",
    "print(\"is 4 more than 5:\",4>5)\n",
    "print(\"is 'string' equal to 'string':\",\"string\"==\"string\")\n",
    "print(\"is 7/21 equal to or greater than 3.14:\",(7/21)>=3.14)\n",
    "print(\"is pasta not equal to brocolli:\",\"pasta\" != \"brocolli\")"
   ]
  },
  {
   "cell_type": "markdown",
   "metadata": {},
   "source": [
    "## Working with strings\n",
    "We look at some of the operations which can be performed on string objects\n",
    "1. Concatenation: We can use ***+*** operator to attach multiple string objects together. For example, \"str\"+\"ing\"=\"string\". To add a number to string we have to first convert the number to string using str()\n",
    "2. Working with quotes within quotes: When we have any quotes to be used as part of string we need to use escape sequence \\ preceding the quote to inform that it is part of the string"
   ]
  },
  {
   "cell_type": "code",
   "execution_count": 15,
   "metadata": {},
   "outputs": [
    {
     "name": "stdout",
     "output_type": "stream",
     "text": [
      "string79\n"
     ]
    }
   ],
   "source": [
    "st1 = \"str\"\n",
    "st2 = \"ing\"\n",
    "st3 = 79\n",
    "print(st1+st2+str(st3))"
   ]
  },
  {
   "cell_type": "code",
   "execution_count": 16,
   "metadata": {},
   "outputs": [
    {
     "ename": "SyntaxError",
     "evalue": "invalid syntax (<ipython-input-16-eee1d7a0422c>, line 2)",
     "output_type": "error",
     "traceback": [
      "\u001b[1;36m  File \u001b[1;32m\"<ipython-input-16-eee1d7a0422c>\"\u001b[1;36m, line \u001b[1;32m2\u001b[0m\n\u001b[1;33m    ford_quote = 'Whether you think you can, or you think you can't--you're right.'\u001b[0m\n\u001b[1;37m                                                                  ^\u001b[0m\n\u001b[1;31mSyntaxError\u001b[0m\u001b[1;31m:\u001b[0m invalid syntax\n"
     ]
    }
   ],
   "source": [
    "print(\"This will print an error\")\n",
    "ford_quote = 'Whether you think you can, or you think you can't--you're right.'"
   ]
  },
  {
   "cell_type": "code",
   "execution_count": 17,
   "metadata": {},
   "outputs": [
    {
     "name": "stdout",
     "output_type": "stream",
     "text": [
      "This won't give error buddy\n",
      "Whether you think you can, or you think you can't--you're right.\n"
     ]
    }
   ],
   "source": [
    "print(\"This won't give error buddy\")\n",
    "ford_quote = 'Whether you think you can, or you think you can\\'t--you\\'re right.'\n",
    "print(ford_quote)"
   ]
  },
  {
   "cell_type": "markdown",
   "metadata": {},
   "source": [
    "## Some String Functions\n",
    "#### len()\n",
    "To get the length of the string which is equal to the number of characters in the string we use the len() function by passing the string as arguement"
   ]
  },
  {
   "cell_type": "code",
   "execution_count": 18,
   "metadata": {},
   "outputs": [
    {
     "name": "stdout",
     "output_type": "stream",
     "text": [
      "4\n"
     ]
    }
   ],
   "source": [
    "print(len(\"name\"))"
   ]
  },
  {
   "cell_type": "code",
   "execution_count": 19,
   "metadata": {},
   "outputs": [
    {
     "name": "stdout",
     "output_type": "stream",
     "text": [
      "Climate Change is real!!!!!Climate Change is real!!!!!Climate Change is real!!!!!Climate Change is real!!!!!Climate Change is real!!!!!Climate Change is real!!!!!Climate Change is real!!!!!Climate Change is real!!!!!Climate Change is real!!!!!Climate Change is real!!!!!Climate Change is real!!!!!\n"
     ]
    }
   ],
   "source": [
    "# to repeat the string n number of times simply multiply it by n\n",
    "print(\"Climate Change is real!!!!!\"*11)"
   ]
  },
  {
   "cell_type": "markdown",
   "metadata": {},
   "source": [
    "#### title()\n",
    "title() function is used to convert the first letter of every word in the string to capital"
   ]
  },
  {
   "cell_type": "code",
   "execution_count": 20,
   "metadata": {},
   "outputs": [
    {
     "name": "stdout",
     "output_type": "stream",
     "text": [
      "We Need To Save The Earth And Reduce Pollution\n"
     ]
    }
   ],
   "source": [
    "print(\"we need to save the earth and reduce pollution\".title())"
   ]
  },
  {
   "cell_type": "markdown",
   "metadata": {},
   "source": [
    "#### islower() and isupper() functions\n",
    "The islower() and isupper() functions returns true if all of the characters in the string are in lower or upper case respectievly"
   ]
  },
  {
   "cell_type": "code",
   "execution_count": 21,
   "metadata": {},
   "outputs": [
    {
     "name": "stdout",
     "output_type": "stream",
     "text": [
      "True\n",
      "True\n"
     ]
    }
   ],
   "source": [
    "print(\"i'm in awe of mother earth\".islower())\n",
    "print(\"WE SHOULD USE PUBLIC TRANSPORT WHEREVER POSSIBLE\".isupper())"
   ]
  },
  {
   "cell_type": "markdown",
   "metadata": {},
   "source": [
    "#### lower() and upper() functions\n",
    "these are used to convert all the characters to specific case"
   ]
  },
  {
   "cell_type": "code",
   "execution_count": 22,
   "metadata": {},
   "outputs": [
    {
     "name": "stdout",
     "output_type": "stream",
     "text": [
      "i should make proper use of water\n",
      "I SHOULD MAKE PROPER USE OF WATER\n"
     ]
    }
   ],
   "source": [
    "print(\"I should make proper Use of Water\".lower())\n",
    "print(\"I should make proper Use of Water\".upper()) "
   ]
  },
  {
   "cell_type": "markdown",
   "metadata": {},
   "source": [
    "#### count()\n",
    "it is used to count the number of occurrences of any sequence passed as arguement inside the main string on which it is called"
   ]
  },
  {
   "cell_type": "code",
   "execution_count": 23,
   "metadata": {},
   "outputs": [
    {
     "name": "stdout",
     "output_type": "stream",
     "text": [
      "2\n"
     ]
    }
   ],
   "source": [
    "print(\"Many great poets lived during 20th and 19th century.\".count(\"th\"))"
   ]
  },
  {
   "cell_type": "markdown",
   "metadata": {},
   "source": [
    "#### find()\n",
    "this function finds the first position index of any sequence of string within main string"
   ]
  },
  {
   "cell_type": "code",
   "execution_count": 24,
   "metadata": {},
   "outputs": [
    {
     "name": "stdout",
     "output_type": "stream",
     "text": [
      "23\n"
     ]
    }
   ],
   "source": [
    "print(\"This is the search string with some nn\".find(\"n\"))"
   ]
  }
 ],
 "metadata": {
  "kernelspec": {
   "display_name": "Python 3",
   "language": "python",
   "name": "python3"
  },
  "language_info": {
   "codemirror_mode": {
    "name": "ipython",
    "version": 3
   },
   "file_extension": ".py",
   "mimetype": "text/x-python",
   "name": "python",
   "nbconvert_exporter": "python",
   "pygments_lexer": "ipython3",
   "version": "3.6.5"
  }
 },
 "nbformat": 4,
 "nbformat_minor": 2
}
